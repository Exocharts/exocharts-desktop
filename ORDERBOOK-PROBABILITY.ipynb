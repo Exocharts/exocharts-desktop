{
 "cells": [
  {
   "cell_type": "code",
   "execution_count": 1,
   "id": "dc53ebcb",
   "metadata": {},
   "outputs": [
    {
     "name": "stderr",
     "output_type": "stream",
     "text": [
      "<frozen importlib._bootstrap>:219: RuntimeWarning: scipy._lib.messagestream.MessageStream size changed, may indicate binary incompatibility. Expected 56 from C header, got 64 from PyObject\n"
     ]
    }
   ],
   "source": [
    "import pandas as pd\n",
    "import numpy as np\n",
    "from tqdm import tqdm\n",
    "import scipy.integrate as spi\n",
    "import matplotlib.pyplot as plt\n",
    "options={'limit':10000}"
   ]
  },
  {
   "cell_type": "markdown",
   "id": "15477d62",
   "metadata": {},
   "source": [
    "## Data"
   ]
  },
  {
   "cell_type": "code",
   "execution_count": 2,
   "id": "83650a21",
   "metadata": {},
   "outputs": [],
   "source": [
    "d = pd.read_parquet(\"ETHUSD_ticks_2021_2023.parquet\")"
   ]
  },
  {
   "cell_type": "code",
   "execution_count": 3,
   "id": "52374c81",
   "metadata": {},
   "outputs": [
    {
     "data": {
      "text/html": [
       "<div>\n",
       "<style scoped>\n",
       "    .dataframe tbody tr th:only-of-type {\n",
       "        vertical-align: middle;\n",
       "    }\n",
       "\n",
       "    .dataframe tbody tr th {\n",
       "        vertical-align: top;\n",
       "    }\n",
       "\n",
       "    .dataframe thead th {\n",
       "        text-align: right;\n",
       "    }\n",
       "</style>\n",
       "<table border=\"1\" class=\"dataframe\">\n",
       "  <thead>\n",
       "    <tr style=\"text-align: right;\">\n",
       "      <th></th>\n",
       "      <th>timestamp</th>\n",
       "      <th>askp</th>\n",
       "      <th>bidp</th>\n",
       "      <th>askv</th>\n",
       "      <th>bidv</th>\n",
       "      <th>price</th>\n",
       "      <th>sprice</th>\n",
       "      <th>pricediff</th>\n",
       "    </tr>\n",
       "  </thead>\n",
       "  <tbody>\n",
       "    <tr>\n",
       "      <th>0</th>\n",
       "      <td>2021-01-01 22:00:00.003</td>\n",
       "      <td>0.07319</td>\n",
       "      <td>0.07278</td>\n",
       "      <td>750</td>\n",
       "      <td>750</td>\n",
       "      <td>0.072985</td>\n",
       "      <td>0.072980</td>\n",
       "      <td>-0.000005</td>\n",
       "    </tr>\n",
       "    <tr>\n",
       "      <th>1</th>\n",
       "      <td>2021-01-01 22:00:00.818</td>\n",
       "      <td>0.07325</td>\n",
       "      <td>0.07271</td>\n",
       "      <td>400</td>\n",
       "      <td>83</td>\n",
       "      <td>0.072980</td>\n",
       "      <td>0.072975</td>\n",
       "      <td>-0.000005</td>\n",
       "    </tr>\n",
       "    <tr>\n",
       "      <th>2</th>\n",
       "      <td>2021-01-01 22:00:01.849</td>\n",
       "      <td>0.07318</td>\n",
       "      <td>0.07277</td>\n",
       "      <td>750</td>\n",
       "      <td>750</td>\n",
       "      <td>0.072975</td>\n",
       "      <td>0.072985</td>\n",
       "      <td>0.000010</td>\n",
       "    </tr>\n",
       "    <tr>\n",
       "      <th>3</th>\n",
       "      <td>2021-01-01 22:00:02.000</td>\n",
       "      <td>0.07319</td>\n",
       "      <td>0.07278</td>\n",
       "      <td>750</td>\n",
       "      <td>750</td>\n",
       "      <td>0.072985</td>\n",
       "      <td>0.072975</td>\n",
       "      <td>-0.000010</td>\n",
       "    </tr>\n",
       "    <tr>\n",
       "      <th>4</th>\n",
       "      <td>2021-01-01 22:00:02.556</td>\n",
       "      <td>0.07318</td>\n",
       "      <td>0.07277</td>\n",
       "      <td>750</td>\n",
       "      <td>750</td>\n",
       "      <td>0.072975</td>\n",
       "      <td>0.072965</td>\n",
       "      <td>-0.000010</td>\n",
       "    </tr>\n",
       "    <tr>\n",
       "      <th>...</th>\n",
       "      <td>...</td>\n",
       "      <td>...</td>\n",
       "      <td>...</td>\n",
       "      <td>...</td>\n",
       "      <td>...</td>\n",
       "      <td>...</td>\n",
       "      <td>...</td>\n",
       "      <td>...</td>\n",
       "    </tr>\n",
       "    <tr>\n",
       "      <th>95802611</th>\n",
       "      <td>2022-12-28 23:59:56.618</td>\n",
       "      <td>0.11927</td>\n",
       "      <td>0.11874</td>\n",
       "      <td>2</td>\n",
       "      <td>540</td>\n",
       "      <td>0.119005</td>\n",
       "      <td>0.118995</td>\n",
       "      <td>-0.000010</td>\n",
       "    </tr>\n",
       "    <tr>\n",
       "      <th>95802612</th>\n",
       "      <td>2022-12-28 23:59:56.681</td>\n",
       "      <td>0.11927</td>\n",
       "      <td>0.11872</td>\n",
       "      <td>600</td>\n",
       "      <td>540</td>\n",
       "      <td>0.118995</td>\n",
       "      <td>0.119005</td>\n",
       "      <td>0.000010</td>\n",
       "    </tr>\n",
       "    <tr>\n",
       "      <th>95802613</th>\n",
       "      <td>2022-12-28 23:59:56.938</td>\n",
       "      <td>0.11927</td>\n",
       "      <td>0.11874</td>\n",
       "      <td>2</td>\n",
       "      <td>540</td>\n",
       "      <td>0.119005</td>\n",
       "      <td>0.118995</td>\n",
       "      <td>-0.000010</td>\n",
       "    </tr>\n",
       "    <tr>\n",
       "      <th>95802614</th>\n",
       "      <td>2022-12-28 23:59:58.872</td>\n",
       "      <td>0.11927</td>\n",
       "      <td>0.11872</td>\n",
       "      <td>600</td>\n",
       "      <td>540</td>\n",
       "      <td>0.118995</td>\n",
       "      <td>0.119005</td>\n",
       "      <td>0.000010</td>\n",
       "    </tr>\n",
       "    <tr>\n",
       "      <th>95802615</th>\n",
       "      <td>2022-12-28 23:59:59.259</td>\n",
       "      <td>0.11927</td>\n",
       "      <td>0.11874</td>\n",
       "      <td>540</td>\n",
       "      <td>2</td>\n",
       "      <td>0.119005</td>\n",
       "      <td>0.119015</td>\n",
       "      <td>0.000010</td>\n",
       "    </tr>\n",
       "  </tbody>\n",
       "</table>\n",
       "<p>95802616 rows × 8 columns</p>\n",
       "</div>"
      ],
      "text/plain": [
       "                       timestamp     askp     bidp  askv  bidv     price  \\\n",
       "0        2021-01-01 22:00:00.003  0.07319  0.07278   750   750  0.072985   \n",
       "1        2021-01-01 22:00:00.818  0.07325  0.07271   400    83  0.072980   \n",
       "2        2021-01-01 22:00:01.849  0.07318  0.07277   750   750  0.072975   \n",
       "3        2021-01-01 22:00:02.000  0.07319  0.07278   750   750  0.072985   \n",
       "4        2021-01-01 22:00:02.556  0.07318  0.07277   750   750  0.072975   \n",
       "...                          ...      ...      ...   ...   ...       ...   \n",
       "95802611 2022-12-28 23:59:56.618  0.11927  0.11874     2   540  0.119005   \n",
       "95802612 2022-12-28 23:59:56.681  0.11927  0.11872   600   540  0.118995   \n",
       "95802613 2022-12-28 23:59:56.938  0.11927  0.11874     2   540  0.119005   \n",
       "95802614 2022-12-28 23:59:58.872  0.11927  0.11872   600   540  0.118995   \n",
       "95802615 2022-12-28 23:59:59.259  0.11927  0.11874   540     2  0.119005   \n",
       "\n",
       "            sprice  pricediff  \n",
       "0         0.072980  -0.000005  \n",
       "1         0.072975  -0.000005  \n",
       "2         0.072985   0.000010  \n",
       "3         0.072975  -0.000010  \n",
       "4         0.072965  -0.000010  \n",
       "...            ...        ...  \n",
       "95802611  0.118995  -0.000010  \n",
       "95802612  0.119005   0.000010  \n",
       "95802613  0.118995  -0.000010  \n",
       "95802614  0.119005   0.000010  \n",
       "95802615  0.119015   0.000010  \n",
       "\n",
       "[95802616 rows x 8 columns]"
      ]
     },
     "execution_count": 3,
     "metadata": {},
     "output_type": "execute_result"
    }
   ],
   "source": [
    "d"
   ]
  },
  {
   "cell_type": "code",
   "execution_count": 4,
   "id": "03308edf",
   "metadata": {},
   "outputs": [
    {
     "data": {
      "text/plain": [
       "(1, 8000, 1, 8000)"
      ]
     },
     "execution_count": 4,
     "metadata": {},
     "output_type": "execute_result"
    }
   ],
   "source": [
    "np.nanmin(d.askv), np.nanmax(d.askv), np.nanmin(d.bidv), np.nanmax(d.bidv)"
   ]
  },
  {
   "cell_type": "markdown",
   "id": "5786415a",
   "metadata": {},
   "source": [
    "### Slides \n",
    "https://www.imperial.ac.uk/media/imperial-college/research-centres-and-groups/cfm-imperial-institute-of-quantitative-finance/events/imperial-eth-2016/Rama-Cont-1.pdf"
   ]
  },
  {
   "cell_type": "code",
   "execution_count": 5,
   "id": "21767b59",
   "metadata": {},
   "outputs": [],
   "source": [
    "history = {}"
   ]
  },
  {
   "cell_type": "code",
   "execution_count": 6,
   "id": "24a2082a",
   "metadata": {},
   "outputs": [],
   "source": [
    "def calc_integral(n, p):\n",
    "    if (n,p) in history:\n",
    "        return history[(n, p)]\n",
    "    integrand = lambda t :((2 - np.cos(t) - np.sqrt( (2-np.cos(t))**2 - 1 ))**p)*np.sin(n*t)*np.cos(t/2)/np.sin(t/2)\n",
    "    a = 0.\n",
    "    b = np.pi\n",
    "    result, error = spi.nquad(integrand, [[a, b]], opts=options)\n",
    "    history[(n, p)]  = result/np.pi\n",
    "    return history[(n, p)]"
   ]
  },
  {
   "cell_type": "markdown",
   "id": "1de05cc4",
   "metadata": {},
   "source": [
    "#### Calculating probability that the next price move is an increase based on L1 OB data"
   ]
  },
  {
   "cell_type": "code",
   "execution_count": 7,
   "id": "599b109e",
   "metadata": {},
   "outputs": [
    {
     "name": "stderr",
     "output_type": "stream",
     "text": [
      "100%|██████████████████████████████████████████████████████████████████████████████████████████████████████████████████████████████████████████████████████████████████████████████████████| 95802616/95802616 [05:43<00:00, 278754.14it/s]\n"
     ]
    }
   ],
   "source": [
    "integrals = []\n",
    "bidv = d.bidv.apply(lambda x: float(x))\n",
    "askv = d.askv.apply(lambda x: float(x))\n",
    "for i in tqdm(range(len(d.bidv))):\n",
    "    integrals.append(calc_integral(bidv[i], askv[i]))"
   ]
  },
  {
   "cell_type": "code",
   "execution_count": 8,
   "id": "b3a7b6c9",
   "metadata": {},
   "outputs": [],
   "source": [
    "d[\"p\"] = integrals"
   ]
  },
  {
   "cell_type": "code",
   "execution_count": 10,
   "id": "60997f16",
   "metadata": {},
   "outputs": [
    {
     "data": {
      "text/plain": [
       "<AxesSubplot:>"
      ]
     },
     "execution_count": 10,
     "metadata": {},
     "output_type": "execute_result"
    },
    {
     "data": {
      "image/png": "[encoded data removed]",
      "text/plain": [
       "<Figure size 432x288 with 1 Axes>"
      ]
     },
     "metadata": {
      "needs_background": "light"
     },
     "output_type": "display_data"
    }
   ],
   "source": [
    "d.p.hist(bins = 20)"
   ]
  },
  {
   "cell_type": "markdown",
   "id": "1e3d1f4f",
   "metadata": {},
   "source": [
    "### Finding best cutoff points"
   ]
  },
  {
   "cell_type": "code",
   "execution_count": 25,
   "id": "a358a2d2",
   "metadata": {},
   "outputs": [
    {
     "name": "stderr",
     "output_type": "stream",
     "text": [
      "100%|██████████████████████████████████████████████████████████████████████████████████████████████████████████████████████████████████████████████████████████████████████████████████████████████████████| 99/99 [17:09<00:00, 10.40s/it]\n"
     ]
    }
   ],
   "source": [
    "cutoffs = []\n",
    "longaccuracys = []\n",
    "shortaccuracys = []\n",
    "for i in tqdm(range(1, 100)):\n",
    "    c = i/100\n",
    "    cutoffs.append(c)\n",
    "    longpredictions = d[d.p > c]\n",
    "    shortpredictions = d[d.p < c]\n",
    "    longaccuracys.append(100*np.sum(longpredictions.pricediff > 0) / len(longpredictions))  \n",
    "    shortaccuracys.append(100*np.sum(shortpredictions.pricediff > 0) / len(shortpredictions)) "
   ]
  },
  {
   "cell_type": "code",
   "execution_count": 27,
   "id": "a01c4e05",
   "metadata": {},
   "outputs": [
    {
     "data": {
      "text/plain": [
       "[<matplotlib.lines.Line2D at 0x140509970>]"
      ]
     },
     "execution_count": 27,
     "metadata": {},
     "output_type": "execute_result"
    },
    {
     "data": {
      "image/png": "[encoded data removed]",
      "text/plain": [
       "<Figure size 432x288 with 1 Axes>"
      ]
     },
     "metadata": {
      "needs_background": "light"
     },
     "output_type": "display_data"
    }
   ],
   "source": [
    "plt.plot(cutoffs, longaccuracys)\n",
    "plt.plot(cutoffs, shortaccuracys)"
   ]
  },
  {
   "cell_type": "code",
   "execution_count": 28,
   "id": "e706d3d0",
   "metadata": {},
   "outputs": [
    {
     "name": "stdout",
     "output_type": "stream",
     "text": [
      "Best long cutoff point about:  0.98 with accuracy:  59.12645410956293\n"
     ]
    }
   ],
   "source": [
    "print(\"Best long cutoff point about: \", cutoffs[np.argmax(longaccuracys)], \"with accuracy: \", np.nanmax(longaccuracys))"
   ]
  },
  {
   "cell_type": "code",
   "execution_count": 29,
   "id": "af67beac",
   "metadata": {},
   "outputs": [
    {
     "name": "stdout",
     "output_type": "stream",
     "text": [
      "Best short cutoff point about:  0.46 with accuracy:  50.44856373160831\n"
     ]
    }
   ],
   "source": [
    "print(\"Best short cutoff point about: \", cutoffs[np.argmax(shortaccuracys)], \"with accuracy: \", np.nanmax(shortaccuracys))"
   ]
  }
 ],
 "metadata": {
  "kernelspec": {
   "display_name": "Python 3 (ipykernel)",
   "language": "python",
   "name": "python3"
  },
  "language_info": {
   "codemirror_mode": {
    "name": "ipython",
    "version": 3
   },
   "file_extension": ".py",
   "mimetype": "text/x-python",
   "name": "python",
   "nbconvert_exporter": "python",
   "pygments_lexer": "ipython3",
   "version": "3.8.13"
  }
 },
 "nbformat": 4,
 "nbformat_minor": 5
}
