{
 "cells": [
  {
   "cell_type": "code",
   "execution_count": 1,
   "id": "dc53ebcb",
   "metadata": {},
   "outputs": [
    {
     "name": "stderr",
     "output_type": "stream",
     "text": [
      "<frozen importlib._bootstrap>:219: RuntimeWarning: scipy._lib.messagestream.MessageStream size changed, may indicate binary incompatibility. Expected 56 from C header, got 64 from PyObject\n"
     ]
    }
   ],
   "source": [
    "import pandas as pd\n",
    "import numpy as np\n",
    "from tqdm import tqdm\n",
    "import scipy.integrate as spi"
   ]
  },
  {
   "cell_type": "markdown",
   "id": "8140f4d6",
   "metadata": {},
   "source": [
    "### Slides \n",
    "https://www.imperial.ac.uk/media/imperial-college/research-centres-and-groups/cfm-imperial-institute-of-quantitative-finance/events/imperial-eth-2016/Rama-Cont-1.pdf"
   ]
  },
  {
   "cell_type": "code",
   "execution_count": 2,
   "id": "93f18d7e",
   "metadata": {},
   "outputs": [],
   "source": [
    "d = pd.read_csv(\"ETHUSD_Ticks_01.12.2022-01.12.2022.csv\", parse_dates = ['Gmt time'])\n",
    "d = d.rename(\n",
    "{\n",
    "    'Gmt time': 'timestamp',\n",
    "    'Ask' : 'askp',\n",
    "    'Bid' : 'bidp',\n",
    "    'AskVolume' : 'askv',\n",
    "    'BidVolume' : 'bidv',\n",
    "}, axis = 1)"
   ]
  },
  {
   "cell_type": "code",
   "execution_count": 3,
   "id": "72ff255c",
   "metadata": {},
   "outputs": [],
   "source": [
    "def calc_integral(n, p):\n",
    "    integrand = lambda t :((2 - np.cos(t) - np.sqrt( (2-np.cos(t))**2 - 1 ))**p)*np.sin(n*t)*np.cos(t/2)/np.sin(t/2)\n",
    "    a = 0.\n",
    "    b = np.pi\n",
    "    result, error = spi.quad(integrand, a, b)\n",
    "    return result/np.pi"
   ]
  },
  {
   "cell_type": "markdown",
   "id": "392be62a",
   "metadata": {},
   "source": [
    "#### Calculating probability that the next price move is an increase based on L1 OB data"
   ]
  },
  {
   "cell_type": "code",
   "execution_count": 4,
   "id": "c5966dfc",
   "metadata": {},
   "outputs": [
    {
     "name": "stderr",
     "output_type": "stream",
     "text": [
      " 47%|█████████████████████████████████████▍                                         | 26091/55068 [00:36<00:40, 717.56it/s]/var/folders/3n/qb9qrmdn45q_rjlp5x6g7k5c0000gn/T/ipykernel_8084/2807056931.py:5: IntegrationWarning: The maximum number of subdivisions (50) has been achieved.\n",
      "  If increasing the limit yields no improvement it is advised to analyze \n",
      "  the integrand in order to determine the difficulties.  If the position of a \n",
      "  local difficulty can be determined (singularity, discontinuity) one will \n",
      "  probably gain from splitting up the interval and calling the integrator \n",
      "  on the subranges.  Perhaps a special-purpose integrator should be used.\n",
      "  result, error = spi.quad(integrand, a, b)\n",
      "100%|███████████████████████████████████████████████████████████████████████████████| 55068/55068 [01:31<00:00, 603.83it/s]\n"
     ]
    }
   ],
   "source": [
    "integrals = []\n",
    "bidv = d.bidv\n",
    "askv = d.askv\n",
    "for i in tqdm(range(len(d.bidv))):\n",
    "    integrals.append(calc_integral(bidv[i], askv[i]))"
   ]
  },
  {
   "cell_type": "code",
   "execution_count": 5,
   "id": "d8998791",
   "metadata": {},
   "outputs": [],
   "source": [
    "d[\"p\"] = integrals"
   ]
  },
  {
   "cell_type": "code",
   "execution_count": 6,
   "id": "c15d0512",
   "metadata": {},
   "outputs": [
    {
     "data": {
      "text/plain": [
       "<AxesSubplot:>"
      ]
     },
     "execution_count": 6,
     "metadata": {},
     "output_type": "execute_result"
    },
    {
     "data": {
      "image/png": "[encoded data removed]",
      "text/plain": [
       "<Figure size 432x288 with 1 Axes>"
      ]
     },
     "metadata": {
      "needs_background": "light"
     },
     "output_type": "display_data"
    }
   ],
   "source": [
    "d.p.hist()"
   ]
  },
  {
   "cell_type": "code",
   "execution_count": 7,
   "id": "00d0dc7c",
   "metadata": {},
   "outputs": [],
   "source": [
    "d[\"price\"] = (d.askp + d.bidp)/2\n",
    "d[\"sprice\"] = d.price.shift(-1)\n",
    "d[\"pricediff\"] = d.sprice - d.price"
   ]
  },
  {
   "cell_type": "code",
   "execution_count": 8,
   "id": "b8463623",
   "metadata": {},
   "outputs": [],
   "source": [
    "longpredictions = d[d.p > 0.8]"
   ]
  },
  {
   "cell_type": "code",
   "execution_count": 9,
   "id": "12d61345",
   "metadata": {},
   "outputs": [
    {
     "data": {
      "text/html": [
       "<div>\n",
       "<style scoped>\n",
       "    .dataframe tbody tr th:only-of-type {\n",
       "        vertical-align: middle;\n",
       "    }\n",
       "\n",
       "    .dataframe tbody tr th {\n",
       "        vertical-align: top;\n",
       "    }\n",
       "\n",
       "    .dataframe thead th {\n",
       "        text-align: right;\n",
       "    }\n",
       "</style>\n",
       "<table border=\"1\" class=\"dataframe\">\n",
       "  <thead>\n",
       "    <tr style=\"text-align: right;\">\n",
       "      <th></th>\n",
       "      <th>timestamp</th>\n",
       "      <th>askp</th>\n",
       "      <th>bidp</th>\n",
       "      <th>askv</th>\n",
       "      <th>bidv</th>\n",
       "      <th>p</th>\n",
       "      <th>price</th>\n",
       "      <th>sprice</th>\n",
       "      <th>pricediff</th>\n",
       "    </tr>\n",
       "  </thead>\n",
       "  <tbody>\n",
       "    <tr>\n",
       "      <th>15404</th>\n",
       "      <td>2022-01-12 05:39:19.535</td>\n",
       "      <td>1282.0</td>\n",
       "      <td>1276.6</td>\n",
       "      <td>62</td>\n",
       "      <td>540</td>\n",
       "      <td>0.927225</td>\n",
       "      <td>1279.30</td>\n",
       "      <td>1279.35</td>\n",
       "      <td>0.05</td>\n",
       "    </tr>\n",
       "    <tr>\n",
       "      <th>26135</th>\n",
       "      <td>2022-01-12 10:40:25.748</td>\n",
       "      <td>1284.3</td>\n",
       "      <td>1279.3</td>\n",
       "      <td>1</td>\n",
       "      <td>540</td>\n",
       "      <td>0.999781</td>\n",
       "      <td>1281.80</td>\n",
       "      <td>1281.95</td>\n",
       "      <td>0.15</td>\n",
       "    </tr>\n",
       "    <tr>\n",
       "      <th>26136</th>\n",
       "      <td>2022-01-12 10:40:25.860</td>\n",
       "      <td>1284.6</td>\n",
       "      <td>1279.3</td>\n",
       "      <td>1</td>\n",
       "      <td>540</td>\n",
       "      <td>0.999781</td>\n",
       "      <td>1281.95</td>\n",
       "      <td>1281.90</td>\n",
       "      <td>-0.05</td>\n",
       "    </tr>\n",
       "    <tr>\n",
       "      <th>26137</th>\n",
       "      <td>2022-01-12 10:40:26.005</td>\n",
       "      <td>1284.6</td>\n",
       "      <td>1279.2</td>\n",
       "      <td>1</td>\n",
       "      <td>600</td>\n",
       "      <td>0.998851</td>\n",
       "      <td>1281.90</td>\n",
       "      <td>1282.05</td>\n",
       "      <td>0.15</td>\n",
       "    </tr>\n",
       "    <tr>\n",
       "      <th>26139</th>\n",
       "      <td>2022-01-12 10:41:50.367</td>\n",
       "      <td>1284.6</td>\n",
       "      <td>1279.6</td>\n",
       "      <td>1</td>\n",
       "      <td>540</td>\n",
       "      <td>0.999781</td>\n",
       "      <td>1282.10</td>\n",
       "      <td>1282.30</td>\n",
       "      <td>0.20</td>\n",
       "    </tr>\n",
       "    <tr>\n",
       "      <th>...</th>\n",
       "      <td>...</td>\n",
       "      <td>...</td>\n",
       "      <td>...</td>\n",
       "      <td>...</td>\n",
       "      <td>...</td>\n",
       "      <td>...</td>\n",
       "      <td>...</td>\n",
       "      <td>...</td>\n",
       "      <td>...</td>\n",
       "    </tr>\n",
       "    <tr>\n",
       "      <th>55056</th>\n",
       "      <td>2022-01-12 23:56:30.406</td>\n",
       "      <td>1278.1</td>\n",
       "      <td>1272.9</td>\n",
       "      <td>2</td>\n",
       "      <td>540</td>\n",
       "      <td>0.997813</td>\n",
       "      <td>1275.50</td>\n",
       "      <td>1275.60</td>\n",
       "      <td>0.10</td>\n",
       "    </tr>\n",
       "    <tr>\n",
       "      <th>55058</th>\n",
       "      <td>2022-01-12 23:58:35.168</td>\n",
       "      <td>1278.1</td>\n",
       "      <td>1273.2</td>\n",
       "      <td>2</td>\n",
       "      <td>540</td>\n",
       "      <td>0.997813</td>\n",
       "      <td>1275.65</td>\n",
       "      <td>1275.90</td>\n",
       "      <td>0.25</td>\n",
       "    </tr>\n",
       "    <tr>\n",
       "      <th>55060</th>\n",
       "      <td>2022-01-12 23:59:01.577</td>\n",
       "      <td>1278.4</td>\n",
       "      <td>1273.5</td>\n",
       "      <td>2</td>\n",
       "      <td>540</td>\n",
       "      <td>0.997813</td>\n",
       "      <td>1275.95</td>\n",
       "      <td>1276.25</td>\n",
       "      <td>0.30</td>\n",
       "    </tr>\n",
       "    <tr>\n",
       "      <th>55065</th>\n",
       "      <td>2022-01-12 23:59:54.336</td>\n",
       "      <td>1278.5</td>\n",
       "      <td>1273.6</td>\n",
       "      <td>2</td>\n",
       "      <td>540</td>\n",
       "      <td>0.997813</td>\n",
       "      <td>1276.05</td>\n",
       "      <td>1276.25</td>\n",
       "      <td>0.20</td>\n",
       "    </tr>\n",
       "    <tr>\n",
       "      <th>55066</th>\n",
       "      <td>2022-01-12 23:59:54.750</td>\n",
       "      <td>1278.9</td>\n",
       "      <td>1273.6</td>\n",
       "      <td>2</td>\n",
       "      <td>540</td>\n",
       "      <td>0.997813</td>\n",
       "      <td>1276.25</td>\n",
       "      <td>1276.35</td>\n",
       "      <td>0.10</td>\n",
       "    </tr>\n",
       "  </tbody>\n",
       "</table>\n",
       "<p>2295 rows × 9 columns</p>\n",
       "</div>"
      ],
      "text/plain": [
       "                    timestamp    askp    bidp  askv  bidv         p    price  \\\n",
       "15404 2022-01-12 05:39:19.535  1282.0  1276.6    62   540  0.927225  1279.30   \n",
       "26135 2022-01-12 10:40:25.748  1284.3  1279.3     1   540  0.999781  1281.80   \n",
       "26136 2022-01-12 10:40:25.860  1284.6  1279.3     1   540  0.999781  1281.95   \n",
       "26137 2022-01-12 10:40:26.005  1284.6  1279.2     1   600  0.998851  1281.90   \n",
       "26139 2022-01-12 10:41:50.367  1284.6  1279.6     1   540  0.999781  1282.10   \n",
       "...                       ...     ...     ...   ...   ...       ...      ...   \n",
       "55056 2022-01-12 23:56:30.406  1278.1  1272.9     2   540  0.997813  1275.50   \n",
       "55058 2022-01-12 23:58:35.168  1278.1  1273.2     2   540  0.997813  1275.65   \n",
       "55060 2022-01-12 23:59:01.577  1278.4  1273.5     2   540  0.997813  1275.95   \n",
       "55065 2022-01-12 23:59:54.336  1278.5  1273.6     2   540  0.997813  1276.05   \n",
       "55066 2022-01-12 23:59:54.750  1278.9  1273.6     2   540  0.997813  1276.25   \n",
       "\n",
       "        sprice  pricediff  \n",
       "15404  1279.35       0.05  \n",
       "26135  1281.95       0.15  \n",
       "26136  1281.90      -0.05  \n",
       "26137  1282.05       0.15  \n",
       "26139  1282.30       0.20  \n",
       "...        ...        ...  \n",
       "55056  1275.60       0.10  \n",
       "55058  1275.90       0.25  \n",
       "55060  1276.25       0.30  \n",
       "55065  1276.25       0.20  \n",
       "55066  1276.35       0.10  \n",
       "\n",
       "[2295 rows x 9 columns]"
      ]
     },
     "execution_count": 9,
     "metadata": {},
     "output_type": "execute_result"
    }
   ],
   "source": [
    "longpredictions"
   ]
  },
  {
   "cell_type": "code",
   "execution_count": 10,
   "id": "7a1ce6b1",
   "metadata": {},
   "outputs": [
    {
     "name": "stdout",
     "output_type": "stream",
     "text": [
      "correct predictions:  80.04357298474946  %\n"
     ]
    }
   ],
   "source": [
    "print(\"correct predictions: \",100*np.sum(longpredictions.pricediff > 0) / len(longpredictions), \" %\" )"
   ]
  },
  {
   "cell_type": "code",
   "execution_count": 11,
   "id": "f585b503",
   "metadata": {},
   "outputs": [
    {
     "data": {
      "text/plain": [
       "<AxesSubplot:>"
      ]
     },
     "execution_count": 11,
     "metadata": {},
     "output_type": "execute_result"
    },
    {
     "data": {
      "image/png": "[encoded data removed]",
      "text/plain": [
       "<Figure size 432x288 with 1 Axes>"
      ]
     },
     "metadata": {
      "needs_background": "light"
     },
     "output_type": "display_data"
    }
   ],
   "source": [
    "longpredictions.pricediff.hist()"
   ]
  }
 ],
 "metadata": {
  "kernelspec": {
   "display_name": "Python 3 (ipykernel)",
   "language": "python",
   "name": "python3"
  },
  "language_info": {
   "codemirror_mode": {
    "name": "ipython",
    "version": 3
   },
   "file_extension": ".py",
   "mimetype": "text/x-python",
   "name": "python",
   "nbconvert_exporter": "python",
   "pygments_lexer": "ipython3",
   "version": "3.8.13"
  }
 },
 "nbformat": 4,
 "nbformat_minor": 5
}
