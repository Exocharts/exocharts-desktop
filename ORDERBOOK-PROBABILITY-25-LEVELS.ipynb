{
 "cells": [
  {
   "cell_type": "markdown",
   "id": "d6a22669",
   "metadata": {},
   "source": [
    "**Summed orderbook probability**"
   ]
  },
  {
   "cell_type": "markdown",
   "id": "af39caa8",
   "metadata": {},
   "source": [
    "**Reference:** ORDERBOOK-PROBABILITY.ipynb notebook in exocharts github"
   ]
  },
  {
   "cell_type": "markdown",
   "id": "edc31d17",
   "metadata": {},
   "source": [
    "**Description:** So far calculating the probability of price going up only using lvl 1 orderbook proved to be mediocre strategy, it needs expansions and experimentation to find the best possible value from the given integral formula. This notebook explores what happens if we sum first 25 levels of orderbook and then calculate the probability"
   ]
  },
  {
   "cell_type": "code",
   "execution_count": 2,
   "id": "50e0a16e",
   "metadata": {},
   "outputs": [
    {
     "name": "stderr",
     "output_type": "stream",
     "text": [
      "<frozen importlib._bootstrap>:219: RuntimeWarning: scipy._lib.messagestream.MessageStream size changed, may indicate binary incompatibility. Expected 56 from C header, got 64 from PyObject\n"
     ]
    }
   ],
   "source": [
    "import pandas as pd\n",
    "import numpy as np\n",
    "from tqdm import tqdm\n",
    "tqdm.pandas()\n",
    "import scipy.integrate as spi\n",
    "import matplotlib.pyplot as plt\n",
    "options={'limit':10000000}\n",
    "history = {}\n",
    "\n",
    "def calc_integral(bidvol, askvol):\n",
    "    if (bidvol, askvol) in history:\n",
    "        return history[(bidvol, askvol)]\n",
    "    integrand = lambda t :((2 - np.cos(t) - np.sqrt( (2-np.cos(t))**2 - 1 ))**askvol)*np.sin(bidvol*t)*np.cos(t/2)/np.sin(t/2)\n",
    "    a = 0.\n",
    "    b = np.pi\n",
    "    result, error = spi.nquad(integrand, [[a, b]], opts=options)\n",
    "    history[(bidvol, askvol)]  = result/np.pi\n",
    "    return history[(bidvol, askvol)]"
   ]
  },
  {
   "cell_type": "code",
   "execution_count": 4,
   "id": "b48445e6",
   "metadata": {},
   "outputs": [],
   "source": [
    "d = pd.read_csv(\"bitmex_book_snapshot_25_2020-09-01_XBTUSD.csv\", nrows = 10000)\n",
    "d = d[[i for i in d.columns if 'amount' in i]]"
   ]
  },
  {
   "cell_type": "code",
   "execution_count": 15,
   "id": "2bda349e",
   "metadata": {},
   "outputs": [
    {
     "data": {
      "text/html": [
       "<div>\n",
       "<style scoped>\n",
       "    .dataframe tbody tr th:only-of-type {\n",
       "        vertical-align: middle;\n",
       "    }\n",
       "\n",
       "    .dataframe tbody tr th {\n",
       "        vertical-align: top;\n",
       "    }\n",
       "\n",
       "    .dataframe thead th {\n",
       "        text-align: right;\n",
       "    }\n",
       "</style>\n",
       "<table border=\"1\" class=\"dataframe\">\n",
       "  <thead>\n",
       "    <tr style=\"text-align: right;\">\n",
       "      <th></th>\n",
       "      <th>sumasks</th>\n",
       "      <th>sumbids</th>\n",
       "    </tr>\n",
       "  </thead>\n",
       "  <tbody>\n",
       "    <tr>\n",
       "      <th>0</th>\n",
       "      <td>4204693</td>\n",
       "      <td>8409386</td>\n",
       "    </tr>\n",
       "    <tr>\n",
       "      <th>1</th>\n",
       "      <td>4190689</td>\n",
       "      <td>8381378</td>\n",
       "    </tr>\n",
       "    <tr>\n",
       "      <th>2</th>\n",
       "      <td>4190689</td>\n",
       "      <td>8381378</td>\n",
       "    </tr>\n",
       "    <tr>\n",
       "      <th>3</th>\n",
       "      <td>4190889</td>\n",
       "      <td>8381778</td>\n",
       "    </tr>\n",
       "    <tr>\n",
       "      <th>4</th>\n",
       "      <td>4190881</td>\n",
       "      <td>8381762</td>\n",
       "    </tr>\n",
       "    <tr>\n",
       "      <th>...</th>\n",
       "      <td>...</td>\n",
       "      <td>...</td>\n",
       "    </tr>\n",
       "    <tr>\n",
       "      <th>9995</th>\n",
       "      <td>5061278</td>\n",
       "      <td>10122556</td>\n",
       "    </tr>\n",
       "    <tr>\n",
       "      <th>9996</th>\n",
       "      <td>5068286</td>\n",
       "      <td>10136572</td>\n",
       "    </tr>\n",
       "    <tr>\n",
       "      <th>9997</th>\n",
       "      <td>5068286</td>\n",
       "      <td>10136572</td>\n",
       "    </tr>\n",
       "    <tr>\n",
       "      <th>9998</th>\n",
       "      <td>5068286</td>\n",
       "      <td>10136572</td>\n",
       "    </tr>\n",
       "    <tr>\n",
       "      <th>9999</th>\n",
       "      <td>5068286</td>\n",
       "      <td>10136572</td>\n",
       "    </tr>\n",
       "  </tbody>\n",
       "</table>\n",
       "<p>10000 rows × 2 columns</p>\n",
       "</div>"
      ],
      "text/plain": [
       "      sumasks   sumbids\n",
       "0     4204693   8409386\n",
       "1     4190689   8381378\n",
       "2     4190689   8381378\n",
       "3     4190889   8381778\n",
       "4     4190881   8381762\n",
       "...       ...       ...\n",
       "9995  5061278  10122556\n",
       "9996  5068286  10136572\n",
       "9997  5068286  10136572\n",
       "9998  5068286  10136572\n",
       "9999  5068286  10136572\n",
       "\n",
       "[10000 rows x 2 columns]"
      ]
     },
     "execution_count": 15,
     "metadata": {},
     "output_type": "execute_result"
    }
   ],
   "source": [
    "d"
   ]
  },
  {
   "cell_type": "markdown",
   "id": "b2bf31d0",
   "metadata": {},
   "source": [
    "### Summing bids and asks for 25 levels"
   ]
  },
  {
   "cell_type": "code",
   "execution_count": 5,
   "id": "ca220000",
   "metadata": {},
   "outputs": [],
   "source": [
    "d[\"sumasks\"] = d[[i for i in d.columns if 'asks' in i]].sum(axis = 1)\n",
    "d[\"sumbids\"] = d[[i for i in d.columns if 'asks' in i]].sum(axis = 1)\n",
    "d = d[[\"sumasks\", \"sumbids\"]]"
   ]
  },
  {
   "cell_type": "markdown",
   "id": "8f8e5d2b",
   "metadata": {},
   "source": [
    "### No transformation"
   ]
  },
  {
   "cell_type": "code",
   "execution_count": 6,
   "id": "e7924099",
   "metadata": {},
   "outputs": [],
   "source": [
    "done = d.copy()"
   ]
  },
  {
   "cell_type": "code",
   "execution_count": 7,
   "id": "02d399d4",
   "metadata": {},
   "outputs": [
    {
     "name": "stderr",
     "output_type": "stream",
     "text": [
      "100%|███████████████████████████████████████████████████████████████████████████████████████| 10000/10000 [00:00<00:00, 11734.82it/s]\n"
     ]
    }
   ],
   "source": [
    "pone = done.progress_apply(lambda row: calc_integral(row['sumbids'],row['sumasks']), axis = 1)"
   ]
  },
  {
   "cell_type": "code",
   "execution_count": 8,
   "id": "a1e0fb81",
   "metadata": {},
   "outputs": [
    {
     "data": {
      "text/plain": [
       "<AxesSubplot:>"
      ]
     },
     "execution_count": 8,
     "metadata": {},
     "output_type": "execute_result"
    },
    {
     "data": {
      "image/png": "[encoded data removed]",
      "text/plain": [
       "<Figure size 432x288 with 1 Axes>"
      ]
     },
     "metadata": {
      "needs_background": "light"
     },
     "output_type": "display_data"
    }
   ],
   "source": [
    "pone.hist(bins = 10)"
   ]
  },
  {
   "cell_type": "markdown",
   "id": "8753f27a",
   "metadata": {},
   "source": [
    "### Standartization"
   ]
  },
  {
   "cell_type": "code",
   "execution_count": 9,
   "id": "1cd962d2",
   "metadata": {},
   "outputs": [
    {
     "data": {
      "text/html": [
       "<div>\n",
       "<style scoped>\n",
       "    .dataframe tbody tr th:only-of-type {\n",
       "        vertical-align: middle;\n",
       "    }\n",
       "\n",
       "    .dataframe tbody tr th {\n",
       "        vertical-align: top;\n",
       "    }\n",
       "\n",
       "    .dataframe thead th {\n",
       "        text-align: right;\n",
       "    }\n",
       "</style>\n",
       "<table border=\"1\" class=\"dataframe\">\n",
       "  <thead>\n",
       "    <tr style=\"text-align: right;\">\n",
       "      <th></th>\n",
       "      <th>sumasks</th>\n",
       "      <th>sumbids</th>\n",
       "    </tr>\n",
       "  </thead>\n",
       "  <tbody>\n",
       "    <tr>\n",
       "      <th>0</th>\n",
       "      <td>0.192287</td>\n",
       "      <td>0.192287</td>\n",
       "    </tr>\n",
       "    <tr>\n",
       "      <th>1</th>\n",
       "      <td>0.184267</td>\n",
       "      <td>0.184267</td>\n",
       "    </tr>\n",
       "    <tr>\n",
       "      <th>2</th>\n",
       "      <td>0.184267</td>\n",
       "      <td>0.184267</td>\n",
       "    </tr>\n",
       "    <tr>\n",
       "      <th>3</th>\n",
       "      <td>0.184381</td>\n",
       "      <td>0.184381</td>\n",
       "    </tr>\n",
       "    <tr>\n",
       "      <th>4</th>\n",
       "      <td>0.184377</td>\n",
       "      <td>0.184377</td>\n",
       "    </tr>\n",
       "    <tr>\n",
       "      <th>...</th>\n",
       "      <td>...</td>\n",
       "      <td>...</td>\n",
       "    </tr>\n",
       "    <tr>\n",
       "      <th>9995</th>\n",
       "      <td>0.682862</td>\n",
       "      <td>0.682862</td>\n",
       "    </tr>\n",
       "    <tr>\n",
       "      <th>9996</th>\n",
       "      <td>0.686875</td>\n",
       "      <td>0.686875</td>\n",
       "    </tr>\n",
       "    <tr>\n",
       "      <th>9997</th>\n",
       "      <td>0.686875</td>\n",
       "      <td>0.686875</td>\n",
       "    </tr>\n",
       "    <tr>\n",
       "      <th>9998</th>\n",
       "      <td>0.686875</td>\n",
       "      <td>0.686875</td>\n",
       "    </tr>\n",
       "    <tr>\n",
       "      <th>9999</th>\n",
       "      <td>0.686875</td>\n",
       "      <td>0.686875</td>\n",
       "    </tr>\n",
       "  </tbody>\n",
       "</table>\n",
       "<p>10000 rows × 2 columns</p>\n",
       "</div>"
      ],
      "text/plain": [
       "       sumasks   sumbids\n",
       "0     0.192287  0.192287\n",
       "1     0.184267  0.184267\n",
       "2     0.184267  0.184267\n",
       "3     0.184381  0.184381\n",
       "4     0.184377  0.184377\n",
       "...        ...       ...\n",
       "9995  0.682862  0.682862\n",
       "9996  0.686875  0.686875\n",
       "9997  0.686875  0.686875\n",
       "9998  0.686875  0.686875\n",
       "9999  0.686875  0.686875\n",
       "\n",
       "[10000 rows x 2 columns]"
      ]
     },
     "execution_count": 9,
     "metadata": {},
     "output_type": "execute_result"
    }
   ],
   "source": [
    "dtwo = (d - d.mean())/d.std()\n",
    "dtwo"
   ]
  },
  {
   "cell_type": "code",
   "execution_count": 10,
   "id": "4ca2777c",
   "metadata": {},
   "outputs": [
    {
     "name": "stderr",
     "output_type": "stream",
     "text": [
      "100%|███████████████████████████████████████████████████████████████████████████████████████| 10000/10000 [00:00<00:00, 12016.41it/s]\n"
     ]
    }
   ],
   "source": [
    "ptwo = dtwo.progress_apply(lambda row: calc_integral(row['sumbids'],row['sumasks']), axis = 1)"
   ]
  },
  {
   "cell_type": "code",
   "execution_count": 11,
   "id": "175c8687",
   "metadata": {},
   "outputs": [
    {
     "data": {
      "text/plain": [
       "<AxesSubplot:>"
      ]
     },
     "execution_count": 11,
     "metadata": {},
     "output_type": "execute_result"
    },
    {
     "data": {
      "image/png": "[encoded data removed]",
      "text/plain": [
       "<Figure size 432x288 with 1 Axes>"
      ]
     },
     "metadata": {
      "needs_background": "light"
     },
     "output_type": "display_data"
    }
   ],
   "source": [
    "ptwo.hist(bins = 10)"
   ]
  },
  {
   "cell_type": "markdown",
   "id": "3eb7f8ce",
   "metadata": {},
   "source": [
    "### Normalization"
   ]
  },
  {
   "cell_type": "code",
   "execution_count": 12,
   "id": "5c391070",
   "metadata": {},
   "outputs": [
    {
     "data": {
      "text/html": [
       "<div>\n",
       "<style scoped>\n",
       "    .dataframe tbody tr th:only-of-type {\n",
       "        vertical-align: middle;\n",
       "    }\n",
       "\n",
       "    .dataframe tbody tr th {\n",
       "        vertical-align: top;\n",
       "    }\n",
       "\n",
       "    .dataframe thead th {\n",
       "        text-align: right;\n",
       "    }\n",
       "</style>\n",
       "<table border=\"1\" class=\"dataframe\">\n",
       "  <thead>\n",
       "    <tr style=\"text-align: right;\">\n",
       "      <th></th>\n",
       "      <th>sumasks</th>\n",
       "      <th>sumbids</th>\n",
       "    </tr>\n",
       "  </thead>\n",
       "  <tbody>\n",
       "    <tr>\n",
       "      <th>0</th>\n",
       "      <td>0.390007</td>\n",
       "      <td>0.390007</td>\n",
       "    </tr>\n",
       "    <tr>\n",
       "      <th>1</th>\n",
       "      <td>0.388065</td>\n",
       "      <td>0.388065</td>\n",
       "    </tr>\n",
       "    <tr>\n",
       "      <th>2</th>\n",
       "      <td>0.388065</td>\n",
       "      <td>0.388065</td>\n",
       "    </tr>\n",
       "    <tr>\n",
       "      <th>3</th>\n",
       "      <td>0.388092</td>\n",
       "      <td>0.388092</td>\n",
       "    </tr>\n",
       "    <tr>\n",
       "      <th>4</th>\n",
       "      <td>0.388091</td>\n",
       "      <td>0.388091</td>\n",
       "    </tr>\n",
       "    <tr>\n",
       "      <th>...</th>\n",
       "      <td>...</td>\n",
       "      <td>...</td>\n",
       "    </tr>\n",
       "    <tr>\n",
       "      <th>9995</th>\n",
       "      <td>0.508824</td>\n",
       "      <td>0.508824</td>\n",
       "    </tr>\n",
       "    <tr>\n",
       "      <th>9996</th>\n",
       "      <td>0.509796</td>\n",
       "      <td>0.509796</td>\n",
       "    </tr>\n",
       "    <tr>\n",
       "      <th>9997</th>\n",
       "      <td>0.509796</td>\n",
       "      <td>0.509796</td>\n",
       "    </tr>\n",
       "    <tr>\n",
       "      <th>9998</th>\n",
       "      <td>0.509796</td>\n",
       "      <td>0.509796</td>\n",
       "    </tr>\n",
       "    <tr>\n",
       "      <th>9999</th>\n",
       "      <td>0.509796</td>\n",
       "      <td>0.509796</td>\n",
       "    </tr>\n",
       "  </tbody>\n",
       "</table>\n",
       "<p>10000 rows × 2 columns</p>\n",
       "</div>"
      ],
      "text/plain": [
       "       sumasks   sumbids\n",
       "0     0.390007  0.390007\n",
       "1     0.388065  0.388065\n",
       "2     0.388065  0.388065\n",
       "3     0.388092  0.388092\n",
       "4     0.388091  0.388091\n",
       "...        ...       ...\n",
       "9995  0.508824  0.508824\n",
       "9996  0.509796  0.509796\n",
       "9997  0.509796  0.509796\n",
       "9998  0.509796  0.509796\n",
       "9999  0.509796  0.509796\n",
       "\n",
       "[10000 rows x 2 columns]"
      ]
     },
     "execution_count": 12,
     "metadata": {},
     "output_type": "execute_result"
    }
   ],
   "source": [
    "dthree = (d - d.min())/(d.max() - d.min())\n",
    "dthree"
   ]
  },
  {
   "cell_type": "code",
   "execution_count": 13,
   "id": "a309c025",
   "metadata": {},
   "outputs": [
    {
     "name": "stderr",
     "output_type": "stream",
     "text": [
      "100%|███████████████████████████████████████████████████████████████████████████████████████| 10000/10000 [00:00<00:00, 12339.36it/s]\n"
     ]
    }
   ],
   "source": [
    "pthree = dthree.progress_apply(lambda row: calc_integral(row['sumbids'],row['sumasks']), axis = 1)"
   ]
  },
  {
   "cell_type": "code",
   "execution_count": 14,
   "id": "5d227b9f",
   "metadata": {},
   "outputs": [
    {
     "data": {
      "text/plain": [
       "<AxesSubplot:>"
      ]
     },
     "execution_count": 14,
     "metadata": {},
     "output_type": "execute_result"
    },
    {
     "data": {
      "image/png": "[encoded data removed]",
      "text/plain": [
       "<Figure size 432x288 with 1 Axes>"
      ]
     },
     "metadata": {
      "needs_background": "light"
     },
     "output_type": "display_data"
    }
   ],
   "source": [
    "pthree.hist(bins = 10)"
   ]
  },
  {
   "cell_type": "markdown",
   "id": "01eca48a",
   "metadata": {},
   "source": [
    "**Conclusion:** it seems with the given numbers, the intergral gives nonsense probabilitys as every result should be in the range of [0;1]. Also I explore how the probabilities change if we standartize or normalize the data before calculation. None of the methods except normalization to range 0->1 provided correct probabilities."
   ]
  }
 ],
 "metadata": {
  "kernelspec": {
   "display_name": "Python 3 (ipykernel)",
   "language": "python",
   "name": "python3"
  },
  "language_info": {
   "codemirror_mode": {
    "name": "ipython",
    "version": 3
   },
   "file_extension": ".py",
   "mimetype": "text/x-python",
   "name": "python",
   "nbconvert_exporter": "python",
   "pygments_lexer": "ipython3",
   "version": "3.8.13"
  }
 },
 "nbformat": 4,
 "nbformat_minor": 5
}
