{
 "cells": [
  {
   "cell_type": "code",
   "execution_count": 1,
   "id": "245dc15d",
   "metadata": {},
   "outputs": [],
   "source": [
    "import pandas as pd\n",
    "import warnings\n",
    "warnings.simplefilter(action='ignore', category=FutureWarning)\n",
    "from statsmodels.formula.api import ols\n",
    "import numpy as np\n",
    "from functools import reduce\n",
    "\n",
    "def plot_2_lines(x1, x2, title):\n",
    "    ax1 = x1.plot(figsize = (17, 7), color = '#ff7f0e', title = title)\n",
    "\n",
    "    ax2 = ax1.twinx()\n",
    "    ax2.spines['right'].set_position(('axes', 1.0))\n",
    "    x2.plot(ax=ax2, color = '#1f77b4')"
   ]
  },
  {
   "cell_type": "markdown",
   "id": "6b93048c",
   "metadata": {},
   "source": [
    "#### Orderbook data"
   ]
  },
  {
   "cell_type": "code",
   "execution_count": 2,
   "id": "9bf18a2d",
   "metadata": {},
   "outputs": [
    {
     "data": {
      "text/html": [
       "<div>\n",
       "<style scoped>\n",
       "    .dataframe tbody tr th:only-of-type {\n",
       "        vertical-align: middle;\n",
       "    }\n",
       "\n",
       "    .dataframe tbody tr th {\n",
       "        vertical-align: top;\n",
       "    }\n",
       "\n",
       "    .dataframe thead th {\n",
       "        text-align: right;\n",
       "    }\n",
       "</style>\n",
       "<table border=\"1\" class=\"dataframe\">\n",
       "  <thead>\n",
       "    <tr style=\"text-align: right;\">\n",
       "      <th></th>\n",
       "      <th>ts</th>\n",
       "      <th>askp</th>\n",
       "      <th>askv</th>\n",
       "      <th>bidp</th>\n",
       "      <th>bidv</th>\n",
       "      <th>saskp</th>\n",
       "      <th>saskv</th>\n",
       "      <th>sbidp</th>\n",
       "      <th>sbidv</th>\n",
       "      <th>bidpincrease</th>\n",
       "      <th>bidpdecrease</th>\n",
       "      <th>askpincrease</th>\n",
       "      <th>askpdecrease</th>\n",
       "      <th>mid</th>\n",
       "      <th>smid</th>\n",
       "      <th>change</th>\n",
       "      <th>imb</th>\n",
       "      <th>day</th>\n",
       "    </tr>\n",
       "  </thead>\n",
       "  <tbody>\n",
       "    <tr>\n",
       "      <th>0</th>\n",
       "      <td>2018-04-17 10:56:24</td>\n",
       "      <td>8099.0</td>\n",
       "      <td>2.469</td>\n",
       "      <td>8094.0</td>\n",
       "      <td>1.19</td>\n",
       "      <td>8099.0</td>\n",
       "      <td>0.218</td>\n",
       "      <td>8094.0</td>\n",
       "      <td>1.00</td>\n",
       "      <td>True</td>\n",
       "      <td>True</td>\n",
       "      <td>True</td>\n",
       "      <td>True</td>\n",
       "      <td>8096.50</td>\n",
       "      <td>8096.50</td>\n",
       "      <td>0.000000</td>\n",
       "      <td>2.061</td>\n",
       "      <td>2018-04-17</td>\n",
       "    </tr>\n",
       "    <tr>\n",
       "      <th>1</th>\n",
       "      <td>2018-04-17 10:56:29</td>\n",
       "      <td>8098.9</td>\n",
       "      <td>0.209</td>\n",
       "      <td>8095.0</td>\n",
       "      <td>0.60</td>\n",
       "      <td>8099.0</td>\n",
       "      <td>2.469</td>\n",
       "      <td>8094.0</td>\n",
       "      <td>1.19</td>\n",
       "      <td>False</td>\n",
       "      <td>True</td>\n",
       "      <td>True</td>\n",
       "      <td>False</td>\n",
       "      <td>8096.95</td>\n",
       "      <td>8096.50</td>\n",
       "      <td>-0.000056</td>\n",
       "      <td>-0.391</td>\n",
       "      <td>2018-04-17</td>\n",
       "    </tr>\n",
       "    <tr>\n",
       "      <th>2</th>\n",
       "      <td>2018-04-17 10:56:35</td>\n",
       "      <td>8099.5</td>\n",
       "      <td>2.469</td>\n",
       "      <td>8095.0</td>\n",
       "      <td>0.60</td>\n",
       "      <td>8098.9</td>\n",
       "      <td>0.209</td>\n",
       "      <td>8095.0</td>\n",
       "      <td>0.60</td>\n",
       "      <td>True</td>\n",
       "      <td>True</td>\n",
       "      <td>False</td>\n",
       "      <td>True</td>\n",
       "      <td>8097.25</td>\n",
       "      <td>8096.95</td>\n",
       "      <td>-0.000037</td>\n",
       "      <td>-0.209</td>\n",
       "      <td>2018-04-17</td>\n",
       "    </tr>\n",
       "  </tbody>\n",
       "</table>\n",
       "</div>"
      ],
      "text/plain": [
       "                   ts    askp   askv    bidp  bidv   saskp  saskv   sbidp  \\\n",
       "0 2018-04-17 10:56:24  8099.0  2.469  8094.0  1.19  8099.0  0.218  8094.0   \n",
       "1 2018-04-17 10:56:29  8098.9  0.209  8095.0  0.60  8099.0  2.469  8094.0   \n",
       "2 2018-04-17 10:56:35  8099.5  2.469  8095.0  0.60  8098.9  0.209  8095.0   \n",
       "\n",
       "   sbidv  bidpincrease  bidpdecrease  askpincrease  askpdecrease      mid  \\\n",
       "0   1.00          True          True          True          True  8096.50   \n",
       "1   1.19         False          True          True         False  8096.95   \n",
       "2   0.60          True          True         False          True  8097.25   \n",
       "\n",
       "      smid    change    imb        day  \n",
       "0  8096.50  0.000000  2.061 2018-04-17  \n",
       "1  8096.50 -0.000056 -0.391 2018-04-17  \n",
       "2  8096.95 -0.000037 -0.209 2018-04-17  "
      ]
     },
     "execution_count": 2,
     "metadata": {},
     "output_type": "execute_result"
    }
   ],
   "source": [
    "d = pd.read_pickle(\"data/imbalance.pkl\")\n",
    "d[\"day\"] = d.ts.dt.floor('d')\n",
    "d.head(3)"
   ]
  },
  {
   "cell_type": "markdown",
   "id": "3d08b27d",
   "metadata": {},
   "source": [
    "#### First value in day of askp and bidp"
   ]
  },
  {
   "cell_type": "code",
   "execution_count": 3,
   "id": "d89f3161",
   "metadata": {},
   "outputs": [
    {
     "data": {
      "text/html": [
       "<div>\n",
       "<style scoped>\n",
       "    .dataframe tbody tr th:only-of-type {\n",
       "        vertical-align: middle;\n",
       "    }\n",
       "\n",
       "    .dataframe tbody tr th {\n",
       "        vertical-align: top;\n",
       "    }\n",
       "\n",
       "    .dataframe thead th {\n",
       "        text-align: right;\n",
       "    }\n",
       "</style>\n",
       "<table border=\"1\" class=\"dataframe\">\n",
       "  <thead>\n",
       "    <tr style=\"text-align: right;\">\n",
       "      <th></th>\n",
       "      <th>day</th>\n",
       "      <th>first_askp</th>\n",
       "      <th>first_bidp</th>\n",
       "    </tr>\n",
       "  </thead>\n",
       "  <tbody>\n",
       "    <tr>\n",
       "      <th>0</th>\n",
       "      <td>2018-04-17</td>\n",
       "      <td>8099.0</td>\n",
       "      <td>8094.0</td>\n",
       "    </tr>\n",
       "    <tr>\n",
       "      <th>1</th>\n",
       "      <td>2018-04-18</td>\n",
       "      <td>7893.1</td>\n",
       "      <td>7893.0</td>\n",
       "    </tr>\n",
       "  </tbody>\n",
       "</table>\n",
       "</div>"
      ],
      "text/plain": [
       "         day  first_askp  first_bidp\n",
       "0 2018-04-17      8099.0      8094.0\n",
       "1 2018-04-18      7893.1      7893.0"
      ]
     },
     "execution_count": 3,
     "metadata": {},
     "output_type": "execute_result"
    }
   ],
   "source": [
    "firstvalue = d.groupby(['day'], as_index= False).nth([0])[['day', 'askp', 'bidp']].reset_index(drop = False)\n",
    "firstvalue = firstvalue.add_prefix('first_')\n",
    "firstvalue = firstvalue.rename({\"first_day\":\"day\"}, axis = 1)\n",
    "firstvalue = firstvalue.drop(['first_index'], axis = 1)\n",
    "firstvalue.head(2)"
   ]
  },
  {
   "cell_type": "markdown",
   "id": "f9748289",
   "metadata": {},
   "source": [
    "#### Last value in day of askp and bidp"
   ]
  },
  {
   "cell_type": "code",
   "execution_count": 4,
   "id": "d45b1a61",
   "metadata": {},
   "outputs": [
    {
     "data": {
      "text/html": [
       "<div>\n",
       "<style scoped>\n",
       "    .dataframe tbody tr th:only-of-type {\n",
       "        vertical-align: middle;\n",
       "    }\n",
       "\n",
       "    .dataframe tbody tr th {\n",
       "        vertical-align: top;\n",
       "    }\n",
       "\n",
       "    .dataframe thead th {\n",
       "        text-align: right;\n",
       "    }\n",
       "</style>\n",
       "<table border=\"1\" class=\"dataframe\">\n",
       "  <thead>\n",
       "    <tr style=\"text-align: right;\">\n",
       "      <th></th>\n",
       "      <th>day</th>\n",
       "      <th>last_askp</th>\n",
       "      <th>last_bidp</th>\n",
       "    </tr>\n",
       "  </thead>\n",
       "  <tbody>\n",
       "    <tr>\n",
       "      <th>0</th>\n",
       "      <td>2018-04-17</td>\n",
       "      <td>7893.1</td>\n",
       "      <td>7893.0</td>\n",
       "    </tr>\n",
       "    <tr>\n",
       "      <th>1</th>\n",
       "      <td>2018-04-18</td>\n",
       "      <td>8170.6</td>\n",
       "      <td>8170.4</td>\n",
       "    </tr>\n",
       "  </tbody>\n",
       "</table>\n",
       "</div>"
      ],
      "text/plain": [
       "         day  last_askp  last_bidp\n",
       "0 2018-04-17     7893.1     7893.0\n",
       "1 2018-04-18     8170.6     8170.4"
      ]
     },
     "execution_count": 4,
     "metadata": {},
     "output_type": "execute_result"
    }
   ],
   "source": [
    "lastvalue = d.groupby(['day'], as_index= False).nth([-1])[['day', 'askp', 'bidp']].reset_index(drop = False)\n",
    "lastvalue = lastvalue.add_prefix('last_')\n",
    "lastvalue = lastvalue.rename({\"last_day\":\"day\"}, axis = 1)\n",
    "lastvalue = lastvalue.drop(['last_index'], axis = 1)\n",
    "lastvalue.head(2)"
   ]
  },
  {
   "cell_type": "markdown",
   "id": "a4516d19",
   "metadata": {},
   "source": [
    "#### Minimum value in day of askp, bidp, mid ::::: (min askv and bidv is always 0.001 so no purpose of them)"
   ]
  },
  {
   "cell_type": "code",
   "execution_count": 5,
   "id": "caa93387",
   "metadata": {},
   "outputs": [
    {
     "data": {
      "text/html": [
       "<div>\n",
       "<style scoped>\n",
       "    .dataframe tbody tr th:only-of-type {\n",
       "        vertical-align: middle;\n",
       "    }\n",
       "\n",
       "    .dataframe tbody tr th {\n",
       "        vertical-align: top;\n",
       "    }\n",
       "\n",
       "    .dataframe thead th {\n",
       "        text-align: right;\n",
       "    }\n",
       "</style>\n",
       "<table border=\"1\" class=\"dataframe\">\n",
       "  <thead>\n",
       "    <tr style=\"text-align: right;\">\n",
       "      <th></th>\n",
       "      <th>day</th>\n",
       "      <th>min_askp</th>\n",
       "      <th>min_bidp</th>\n",
       "      <th>min_imb</th>\n",
       "    </tr>\n",
       "  </thead>\n",
       "  <tbody>\n",
       "    <tr>\n",
       "      <th>0</th>\n",
       "      <td>2018-04-17</td>\n",
       "      <td>7830.1</td>\n",
       "      <td>7817.1</td>\n",
       "      <td>-84.283</td>\n",
       "    </tr>\n",
       "    <tr>\n",
       "      <th>1</th>\n",
       "      <td>2018-04-18</td>\n",
       "      <td>7881.1</td>\n",
       "      <td>7875.6</td>\n",
       "      <td>-78.035</td>\n",
       "    </tr>\n",
       "  </tbody>\n",
       "</table>\n",
       "</div>"
      ],
      "text/plain": [
       "         day  min_askp  min_bidp  min_imb\n",
       "0 2018-04-17    7830.1    7817.1  -84.283\n",
       "1 2018-04-18    7881.1    7875.6  -78.035"
      ]
     },
     "execution_count": 5,
     "metadata": {},
     "output_type": "execute_result"
    }
   ],
   "source": [
    "minvalue = pd.DataFrame(d.groupby(['day'])['askp', 'bidp', 'imb'].agg('min')).reset_index(drop = False)\n",
    "minvalue = minvalue.add_prefix('min_')\n",
    "minvalue = minvalue.rename({\"min_day\":\"day\"}, axis = 1)\n",
    "minvalue.head(2)"
   ]
  },
  {
   "cell_type": "markdown",
   "id": "fde8b1c1",
   "metadata": {},
   "source": [
    "#### Maximum value in day of askp, bidp, bidv, askv, imb"
   ]
  },
  {
   "cell_type": "code",
   "execution_count": 6,
   "id": "f8a572c0",
   "metadata": {},
   "outputs": [
    {
     "data": {
      "text/html": [
       "<div>\n",
       "<style scoped>\n",
       "    .dataframe tbody tr th:only-of-type {\n",
       "        vertical-align: middle;\n",
       "    }\n",
       "\n",
       "    .dataframe tbody tr th {\n",
       "        vertical-align: top;\n",
       "    }\n",
       "\n",
       "    .dataframe thead th {\n",
       "        text-align: right;\n",
       "    }\n",
       "</style>\n",
       "<table border=\"1\" class=\"dataframe\">\n",
       "  <thead>\n",
       "    <tr style=\"text-align: right;\">\n",
       "      <th></th>\n",
       "      <th>day</th>\n",
       "      <th>max_askp</th>\n",
       "      <th>max_bidp</th>\n",
       "      <th>max_bidv</th>\n",
       "      <th>max_askv</th>\n",
       "      <th>max_imb</th>\n",
       "    </tr>\n",
       "  </thead>\n",
       "  <tbody>\n",
       "    <tr>\n",
       "      <th>0</th>\n",
       "      <td>2018-04-17</td>\n",
       "      <td>8160.1</td>\n",
       "      <td>8160.0</td>\n",
       "      <td>84.834</td>\n",
       "      <td>99.914</td>\n",
       "      <td>98.872</td>\n",
       "    </tr>\n",
       "    <tr>\n",
       "      <th>1</th>\n",
       "      <td>2018-04-18</td>\n",
       "      <td>8296.8</td>\n",
       "      <td>8250.0</td>\n",
       "      <td>85.969</td>\n",
       "      <td>85.814</td>\n",
       "      <td>85.921</td>\n",
       "    </tr>\n",
       "  </tbody>\n",
       "</table>\n",
       "</div>"
      ],
      "text/plain": [
       "         day  max_askp  max_bidp  max_bidv  max_askv  max_imb\n",
       "0 2018-04-17    8160.1    8160.0    84.834    99.914   98.872\n",
       "1 2018-04-18    8296.8    8250.0    85.969    85.814   85.921"
      ]
     },
     "execution_count": 6,
     "metadata": {},
     "output_type": "execute_result"
    }
   ],
   "source": [
    "maxvalue = pd.DataFrame(d.groupby(['day'])['askp', 'bidp', 'bidv', 'askv', 'imb'].agg('max')).reset_index(drop = False)\n",
    "maxvalue = maxvalue.add_prefix('max_')\n",
    "maxvalue = maxvalue.rename({\"max_day\":\"day\"}, axis = 1)\n",
    "maxvalue.head(2)"
   ]
  },
  {
   "cell_type": "markdown",
   "id": "e642807f",
   "metadata": {},
   "source": [
    "#### Sum of whole day's imbalance"
   ]
  },
  {
   "cell_type": "code",
   "execution_count": 7,
   "id": "e29b82b0",
   "metadata": {},
   "outputs": [
    {
     "data": {
      "text/html": [
       "<div>\n",
       "<style scoped>\n",
       "    .dataframe tbody tr th:only-of-type {\n",
       "        vertical-align: middle;\n",
       "    }\n",
       "\n",
       "    .dataframe tbody tr th {\n",
       "        vertical-align: top;\n",
       "    }\n",
       "\n",
       "    .dataframe thead th {\n",
       "        text-align: right;\n",
       "    }\n",
       "</style>\n",
       "<table border=\"1\" class=\"dataframe\">\n",
       "  <thead>\n",
       "    <tr style=\"text-align: right;\">\n",
       "      <th></th>\n",
       "      <th>day</th>\n",
       "      <th>sum_imb</th>\n",
       "    </tr>\n",
       "  </thead>\n",
       "  <tbody>\n",
       "    <tr>\n",
       "      <th>0</th>\n",
       "      <td>2018-04-17</td>\n",
       "      <td>544.339</td>\n",
       "    </tr>\n",
       "    <tr>\n",
       "      <th>1</th>\n",
       "      <td>2018-04-18</td>\n",
       "      <td>143.030</td>\n",
       "    </tr>\n",
       "  </tbody>\n",
       "</table>\n",
       "</div>"
      ],
      "text/plain": [
       "         day  sum_imb\n",
       "0 2018-04-17  544.339\n",
       "1 2018-04-18  143.030"
      ]
     },
     "execution_count": 7,
     "metadata": {},
     "output_type": "execute_result"
    }
   ],
   "source": [
    "sumi = pd.DataFrame(d.groupby(['day'])['imb'].agg('sum')).reset_index(drop = False)\n",
    "sumi = sumi.add_prefix('sum_')\n",
    "sumi = sumi.rename({\"sum_day\":\"day\"}, axis = 1)\n",
    "sumi.head(2)"
   ]
  },
  {
   "cell_type": "markdown",
   "id": "95e9a845",
   "metadata": {},
   "source": [
    "#### Merging all datasets to one"
   ]
  },
  {
   "cell_type": "code",
   "execution_count": 8,
   "id": "05256000",
   "metadata": {},
   "outputs": [
    {
     "data": {
      "text/html": [
       "<div>\n",
       "<style scoped>\n",
       "    .dataframe tbody tr th:only-of-type {\n",
       "        vertical-align: middle;\n",
       "    }\n",
       "\n",
       "    .dataframe tbody tr th {\n",
       "        vertical-align: top;\n",
       "    }\n",
       "\n",
       "    .dataframe thead th {\n",
       "        text-align: right;\n",
       "    }\n",
       "</style>\n",
       "<table border=\"1\" class=\"dataframe\">\n",
       "  <thead>\n",
       "    <tr style=\"text-align: right;\">\n",
       "      <th></th>\n",
       "      <th>day</th>\n",
       "      <th>first_askp</th>\n",
       "      <th>first_bidp</th>\n",
       "      <th>last_askp</th>\n",
       "      <th>last_bidp</th>\n",
       "      <th>min_askp</th>\n",
       "      <th>min_bidp</th>\n",
       "      <th>min_imb</th>\n",
       "      <th>max_askp</th>\n",
       "      <th>max_bidp</th>\n",
       "      <th>max_bidv</th>\n",
       "      <th>max_askv</th>\n",
       "      <th>max_imb</th>\n",
       "      <th>sum_imb</th>\n",
       "    </tr>\n",
       "  </thead>\n",
       "  <tbody>\n",
       "    <tr>\n",
       "      <th>0</th>\n",
       "      <td>2018-04-17</td>\n",
       "      <td>8099.0</td>\n",
       "      <td>8094.0</td>\n",
       "      <td>7893.1</td>\n",
       "      <td>7893.0</td>\n",
       "      <td>7830.1</td>\n",
       "      <td>7817.1</td>\n",
       "      <td>-84.283</td>\n",
       "      <td>8160.1</td>\n",
       "      <td>8160.0</td>\n",
       "      <td>84.834</td>\n",
       "      <td>99.914</td>\n",
       "      <td>98.872</td>\n",
       "      <td>544.339</td>\n",
       "    </tr>\n",
       "    <tr>\n",
       "      <th>1</th>\n",
       "      <td>2018-04-18</td>\n",
       "      <td>7893.1</td>\n",
       "      <td>7893.0</td>\n",
       "      <td>8170.6</td>\n",
       "      <td>8170.4</td>\n",
       "      <td>7881.1</td>\n",
       "      <td>7875.6</td>\n",
       "      <td>-78.035</td>\n",
       "      <td>8296.8</td>\n",
       "      <td>8250.0</td>\n",
       "      <td>85.969</td>\n",
       "      <td>85.814</td>\n",
       "      <td>85.921</td>\n",
       "      <td>143.030</td>\n",
       "    </tr>\n",
       "    <tr>\n",
       "      <th>2</th>\n",
       "      <td>2018-04-19</td>\n",
       "      <td>8174.4</td>\n",
       "      <td>8170.3</td>\n",
       "      <td>8275.9</td>\n",
       "      <td>8267.5</td>\n",
       "      <td>8100.5</td>\n",
       "      <td>8099.6</td>\n",
       "      <td>-60.543</td>\n",
       "      <td>8299.9</td>\n",
       "      <td>8298.9</td>\n",
       "      <td>63.221</td>\n",
       "      <td>60.754</td>\n",
       "      <td>63.420</td>\n",
       "      <td>-428.747</td>\n",
       "    </tr>\n",
       "  </tbody>\n",
       "</table>\n",
       "</div>"
      ],
      "text/plain": [
       "         day  first_askp  first_bidp  last_askp  last_bidp  min_askp  \\\n",
       "0 2018-04-17      8099.0      8094.0     7893.1     7893.0    7830.1   \n",
       "1 2018-04-18      7893.1      7893.0     8170.6     8170.4    7881.1   \n",
       "2 2018-04-19      8174.4      8170.3     8275.9     8267.5    8100.5   \n",
       "\n",
       "   min_bidp  min_imb  max_askp  max_bidp  max_bidv  max_askv  max_imb  sum_imb  \n",
       "0    7817.1  -84.283    8160.1    8160.0    84.834    99.914   98.872  544.339  \n",
       "1    7875.6  -78.035    8296.8    8250.0    85.969    85.814   85.921  143.030  \n",
       "2    8099.6  -60.543    8299.9    8298.9    63.221    60.754   63.420 -428.747  "
      ]
     },
     "execution_count": 8,
     "metadata": {},
     "output_type": "execute_result"
    }
   ],
   "source": [
    "dfs_to_join = [firstvalue, lastvalue, minvalue, maxvalue, sumi]\n",
    "df = reduce(lambda left,right: pd.merge(left,right,on='day'), dfs_to_join)\n",
    "df.head(3)"
   ]
  },
  {
   "cell_type": "markdown",
   "id": "ffca4c2d",
   "metadata": {},
   "source": [
    "#### Calculating mid price at the start and end of the day"
   ]
  },
  {
   "cell_type": "code",
   "execution_count": 9,
   "id": "9e44b03a",
   "metadata": {},
   "outputs": [
    {
     "data": {
      "text/html": [
       "<div>\n",
       "<style scoped>\n",
       "    .dataframe tbody tr th:only-of-type {\n",
       "        vertical-align: middle;\n",
       "    }\n",
       "\n",
       "    .dataframe tbody tr th {\n",
       "        vertical-align: top;\n",
       "    }\n",
       "\n",
       "    .dataframe thead th {\n",
       "        text-align: right;\n",
       "    }\n",
       "</style>\n",
       "<table border=\"1\" class=\"dataframe\">\n",
       "  <thead>\n",
       "    <tr style=\"text-align: right;\">\n",
       "      <th></th>\n",
       "      <th>day</th>\n",
       "      <th>first_askp</th>\n",
       "      <th>first_bidp</th>\n",
       "      <th>last_askp</th>\n",
       "      <th>last_bidp</th>\n",
       "      <th>min_askp</th>\n",
       "      <th>min_bidp</th>\n",
       "      <th>min_imb</th>\n",
       "      <th>max_askp</th>\n",
       "      <th>max_bidp</th>\n",
       "      <th>max_bidv</th>\n",
       "      <th>max_askv</th>\n",
       "      <th>max_imb</th>\n",
       "      <th>sum_imb</th>\n",
       "      <th>first_mid</th>\n",
       "      <th>last_mid</th>\n",
       "    </tr>\n",
       "  </thead>\n",
       "  <tbody>\n",
       "    <tr>\n",
       "      <th>0</th>\n",
       "      <td>2018-04-17</td>\n",
       "      <td>8099.0</td>\n",
       "      <td>8094.0</td>\n",
       "      <td>7893.1</td>\n",
       "      <td>7893.0</td>\n",
       "      <td>7830.1</td>\n",
       "      <td>7817.1</td>\n",
       "      <td>-84.283</td>\n",
       "      <td>8160.1</td>\n",
       "      <td>8160.0</td>\n",
       "      <td>84.834</td>\n",
       "      <td>99.914</td>\n",
       "      <td>98.872</td>\n",
       "      <td>544.339</td>\n",
       "      <td>8096.50</td>\n",
       "      <td>7893.05</td>\n",
       "    </tr>\n",
       "    <tr>\n",
       "      <th>1</th>\n",
       "      <td>2018-04-18</td>\n",
       "      <td>7893.1</td>\n",
       "      <td>7893.0</td>\n",
       "      <td>8170.6</td>\n",
       "      <td>8170.4</td>\n",
       "      <td>7881.1</td>\n",
       "      <td>7875.6</td>\n",
       "      <td>-78.035</td>\n",
       "      <td>8296.8</td>\n",
       "      <td>8250.0</td>\n",
       "      <td>85.969</td>\n",
       "      <td>85.814</td>\n",
       "      <td>85.921</td>\n",
       "      <td>143.030</td>\n",
       "      <td>7893.05</td>\n",
       "      <td>8170.50</td>\n",
       "    </tr>\n",
       "    <tr>\n",
       "      <th>2</th>\n",
       "      <td>2018-04-19</td>\n",
       "      <td>8174.4</td>\n",
       "      <td>8170.3</td>\n",
       "      <td>8275.9</td>\n",
       "      <td>8267.5</td>\n",
       "      <td>8100.5</td>\n",
       "      <td>8099.6</td>\n",
       "      <td>-60.543</td>\n",
       "      <td>8299.9</td>\n",
       "      <td>8298.9</td>\n",
       "      <td>63.221</td>\n",
       "      <td>60.754</td>\n",
       "      <td>63.420</td>\n",
       "      <td>-428.747</td>\n",
       "      <td>8172.35</td>\n",
       "      <td>8271.70</td>\n",
       "    </tr>\n",
       "  </tbody>\n",
       "</table>\n",
       "</div>"
      ],
      "text/plain": [
       "         day  first_askp  first_bidp  last_askp  last_bidp  min_askp  \\\n",
       "0 2018-04-17      8099.0      8094.0     7893.1     7893.0    7830.1   \n",
       "1 2018-04-18      7893.1      7893.0     8170.6     8170.4    7881.1   \n",
       "2 2018-04-19      8174.4      8170.3     8275.9     8267.5    8100.5   \n",
       "\n",
       "   min_bidp  min_imb  max_askp  max_bidp  max_bidv  max_askv  max_imb  \\\n",
       "0    7817.1  -84.283    8160.1    8160.0    84.834    99.914   98.872   \n",
       "1    7875.6  -78.035    8296.8    8250.0    85.969    85.814   85.921   \n",
       "2    8099.6  -60.543    8299.9    8298.9    63.221    60.754   63.420   \n",
       "\n",
       "   sum_imb  first_mid  last_mid  \n",
       "0  544.339    8096.50   7893.05  \n",
       "1  143.030    7893.05   8170.50  \n",
       "2 -428.747    8172.35   8271.70  "
      ]
     },
     "execution_count": 9,
     "metadata": {},
     "output_type": "execute_result"
    }
   ],
   "source": [
    "df[\"first_mid\"] = ( df.first_askp + df.first_bidp ) / 2\n",
    "df[\"last_mid\"] = ( df.last_askp + df.last_bidp ) / 2\n",
    "df.head(3)"
   ]
  },
  {
   "cell_type": "markdown",
   "id": "54d0c246",
   "metadata": {},
   "source": [
    "#### Feature engineering"
   ]
  },
  {
   "cell_type": "code",
   "execution_count": 10,
   "id": "8d1e80b8",
   "metadata": {},
   "outputs": [
    {
     "data": {
      "text/html": [
       "<div>\n",
       "<style scoped>\n",
       "    .dataframe tbody tr th:only-of-type {\n",
       "        vertical-align: middle;\n",
       "    }\n",
       "\n",
       "    .dataframe tbody tr th {\n",
       "        vertical-align: top;\n",
       "    }\n",
       "\n",
       "    .dataframe thead th {\n",
       "        text-align: right;\n",
       "    }\n",
       "</style>\n",
       "<table border=\"1\" class=\"dataframe\">\n",
       "  <thead>\n",
       "    <tr style=\"text-align: right;\">\n",
       "      <th></th>\n",
       "      <th>day</th>\n",
       "      <th>min_imb</th>\n",
       "      <th>max_imb</th>\n",
       "      <th>sum_imb</th>\n",
       "      <th>first_mid</th>\n",
       "      <th>last_mid</th>\n",
       "      <th>askp_oc_diff</th>\n",
       "      <th>bidp_oc_diff</th>\n",
       "      <th>askp_hl_diff</th>\n",
       "      <th>bidp_hl_diff</th>\n",
       "      <th>bidv_askp_max_diff</th>\n",
       "    </tr>\n",
       "  </thead>\n",
       "  <tbody>\n",
       "    <tr>\n",
       "      <th>0</th>\n",
       "      <td>2018-04-17</td>\n",
       "      <td>-84.283</td>\n",
       "      <td>98.872</td>\n",
       "      <td>544.339</td>\n",
       "      <td>8096.50</td>\n",
       "      <td>7893.05</td>\n",
       "      <td>-205.9</td>\n",
       "      <td>-201.0</td>\n",
       "      <td>330.0</td>\n",
       "      <td>342.9</td>\n",
       "      <td>-15.080</td>\n",
       "    </tr>\n",
       "    <tr>\n",
       "      <th>1</th>\n",
       "      <td>2018-04-18</td>\n",
       "      <td>-78.035</td>\n",
       "      <td>85.921</td>\n",
       "      <td>143.030</td>\n",
       "      <td>7893.05</td>\n",
       "      <td>8170.50</td>\n",
       "      <td>277.5</td>\n",
       "      <td>277.4</td>\n",
       "      <td>415.7</td>\n",
       "      <td>374.4</td>\n",
       "      <td>0.155</td>\n",
       "    </tr>\n",
       "    <tr>\n",
       "      <th>2</th>\n",
       "      <td>2018-04-19</td>\n",
       "      <td>-60.543</td>\n",
       "      <td>63.420</td>\n",
       "      <td>-428.747</td>\n",
       "      <td>8172.35</td>\n",
       "      <td>8271.70</td>\n",
       "      <td>101.5</td>\n",
       "      <td>97.2</td>\n",
       "      <td>199.4</td>\n",
       "      <td>199.3</td>\n",
       "      <td>2.467</td>\n",
       "    </tr>\n",
       "  </tbody>\n",
       "</table>\n",
       "</div>"
      ],
      "text/plain": [
       "         day  min_imb  max_imb  sum_imb  first_mid  last_mid  askp_oc_diff  \\\n",
       "0 2018-04-17  -84.283   98.872  544.339    8096.50   7893.05        -205.9   \n",
       "1 2018-04-18  -78.035   85.921  143.030    7893.05   8170.50         277.5   \n",
       "2 2018-04-19  -60.543   63.420 -428.747    8172.35   8271.70         101.5   \n",
       "\n",
       "   bidp_oc_diff  askp_hl_diff  bidp_hl_diff  bidv_askp_max_diff  \n",
       "0        -201.0         330.0         342.9             -15.080  \n",
       "1         277.4         415.7         374.4               0.155  \n",
       "2          97.2         199.4         199.3               2.467  "
      ]
     },
     "execution_count": 10,
     "metadata": {},
     "output_type": "execute_result"
    }
   ],
   "source": [
    "df[\"askp_oc_diff\"] = df.last_askp - df.first_askp\n",
    "df[\"bidp_oc_diff\"] = df.last_bidp - df.first_bidp\n",
    "df[\"askp_hl_diff\"] = df.max_askp - df.min_askp\n",
    "df[\"bidp_hl_diff\"] = df.max_bidp - df.min_bidp\n",
    "df['bidv_askp_max_diff'] = df.max_bidv - df.max_askv\n",
    "df = df.drop(['first_askp', 'last_askp', 'first_bidp', 'last_bidp', 'min_bidp',\n",
    "              'max_bidp', 'min_askp', 'max_askp', 'max_bidv', 'max_askv'], axis = 1)\n",
    "df.head(3)"
   ]
  },
  {
   "cell_type": "markdown",
   "id": "2d508410",
   "metadata": {},
   "source": [
    "#### Calculating day's change and % change in mid price, shifting change to avoid look-ahead bias"
   ]
  },
  {
   "cell_type": "code",
   "execution_count": 11,
   "id": "287257a5",
   "metadata": {},
   "outputs": [
    {
     "data": {
      "text/html": [
       "<div>\n",
       "<style scoped>\n",
       "    .dataframe tbody tr th:only-of-type {\n",
       "        vertical-align: middle;\n",
       "    }\n",
       "\n",
       "    .dataframe tbody tr th {\n",
       "        vertical-align: top;\n",
       "    }\n",
       "\n",
       "    .dataframe thead th {\n",
       "        text-align: right;\n",
       "    }\n",
       "</style>\n",
       "<table border=\"1\" class=\"dataframe\">\n",
       "  <thead>\n",
       "    <tr style=\"text-align: right;\">\n",
       "      <th></th>\n",
       "      <th>day</th>\n",
       "      <th>min_imb</th>\n",
       "      <th>max_imb</th>\n",
       "      <th>sum_imb</th>\n",
       "      <th>askp_oc_diff</th>\n",
       "      <th>bidp_oc_diff</th>\n",
       "      <th>askp_hl_diff</th>\n",
       "      <th>bidp_hl_diff</th>\n",
       "      <th>bidv_askp_max_diff</th>\n",
       "      <th>s_pct_change</th>\n",
       "    </tr>\n",
       "  </thead>\n",
       "  <tbody>\n",
       "    <tr>\n",
       "      <th>0</th>\n",
       "      <td>2018-04-18</td>\n",
       "      <td>-78.035</td>\n",
       "      <td>85.921</td>\n",
       "      <td>143.030</td>\n",
       "      <td>277.5</td>\n",
       "      <td>277.4</td>\n",
       "      <td>415.7</td>\n",
       "      <td>374.4</td>\n",
       "      <td>0.155</td>\n",
       "      <td>1.215685</td>\n",
       "    </tr>\n",
       "    <tr>\n",
       "      <th>1</th>\n",
       "      <td>2018-04-19</td>\n",
       "      <td>-60.543</td>\n",
       "      <td>63.420</td>\n",
       "      <td>-428.747</td>\n",
       "      <td>101.5</td>\n",
       "      <td>97.2</td>\n",
       "      <td>199.4</td>\n",
       "      <td>199.3</td>\n",
       "      <td>2.467</td>\n",
       "      <td>7.318326</td>\n",
       "    </tr>\n",
       "    <tr>\n",
       "      <th>2</th>\n",
       "      <td>2018-04-20</td>\n",
       "      <td>-101.000</td>\n",
       "      <td>94.933</td>\n",
       "      <td>123.329</td>\n",
       "      <td>604.1</td>\n",
       "      <td>606.6</td>\n",
       "      <td>716.2</td>\n",
       "      <td>708.3</td>\n",
       "      <td>40.868</td>\n",
       "      <td>0.713799</td>\n",
       "    </tr>\n",
       "  </tbody>\n",
       "</table>\n",
       "</div>"
      ],
      "text/plain": [
       "         day  min_imb  max_imb  sum_imb  askp_oc_diff  bidp_oc_diff  \\\n",
       "0 2018-04-18  -78.035   85.921  143.030         277.5         277.4   \n",
       "1 2018-04-19  -60.543   63.420 -428.747         101.5          97.2   \n",
       "2 2018-04-20 -101.000   94.933  123.329         604.1         606.6   \n",
       "\n",
       "   askp_hl_diff  bidp_hl_diff  bidv_askp_max_diff  s_pct_change  \n",
       "0         415.7         374.4               0.155      1.215685  \n",
       "1         199.4         199.3               2.467      7.318326  \n",
       "2         716.2         708.3              40.868      0.713799  "
      ]
     },
     "execution_count": 11,
     "metadata": {},
     "output_type": "execute_result"
    }
   ],
   "source": [
    "df[\"pct_change\"] = 100*(df.last_mid - df.first_mid) / df.first_mid\n",
    "df = df.drop( ['first_mid', 'last_mid'] , axis = 1)\n",
    "df[\"s_pct_change\"] = df[\"pct_change\"].shift(-1)\n",
    "df = df.drop(['pct_change'], axis = 1)\n",
    "df = df.iloc[1:-1, :].reset_index(drop = True)\n",
    "df.head(3)"
   ]
  },
  {
   "cell_type": "markdown",
   "id": "3cb6c6d7",
   "metadata": {},
   "source": [
    "### Linear plots"
   ]
  },
  {
   "cell_type": "code",
   "execution_count": 12,
   "id": "976e4ec6",
   "metadata": {},
   "outputs": [],
   "source": [
    "import seaborn as sns\n",
    "sns.set(rc={'figure.figsize':(10,3)})\n",
    "sns.set_style(\"ticks\")\n",
    "y = df[\"s_pct_change\"]"
   ]
  },
  {
   "cell_type": "markdown",
   "id": "18c090f1",
   "metadata": {},
   "source": [
    "#### min imbalance"
   ]
  },
  {
   "cell_type": "code",
   "execution_count": 13,
   "id": "a4a57757",
   "metadata": {},
   "outputs": [
    {
     "data": {
      "text/plain": [
       "<AxesSubplot:xlabel='min_imb', ylabel='s_pct_change'>"
      ]
     },
     "execution_count": 13,
     "metadata": {},
     "output_type": "execute_result"
    },
    {
     "data": {
      "image/png": "[encoded data removed]",
      "text/plain": [
       "<Figure size 720x216 with 1 Axes>"
      ]
     },
     "metadata": {},
     "output_type": "display_data"
    }
   ],
   "source": [
    "sns.regplot(df.min_imb, y, robust = True, label = 'te')"
   ]
  },
  {
   "cell_type": "markdown",
   "id": "85f6c522",
   "metadata": {},
   "source": [
    "#### max imbalance"
   ]
  },
  {
   "cell_type": "code",
   "execution_count": 14,
   "id": "21317ace",
   "metadata": {},
   "outputs": [
    {
     "data": {
      "text/plain": [
       "<AxesSubplot:xlabel='max_imb', ylabel='s_pct_change'>"
      ]
     },
     "execution_count": 14,
     "metadata": {},
     "output_type": "execute_result"
    },
    {
     "data": {
      "image/png": "[encoded data removed]",
      "text/plain": [
       "<Figure size 720x216 with 1 Axes>"
      ]
     },
     "metadata": {},
     "output_type": "display_data"
    }
   ],
   "source": [
    "sns.regplot(df.max_imb, y, robust = True, label = 'te')"
   ]
  },
  {
   "cell_type": "markdown",
   "id": "a0743ef8",
   "metadata": {},
   "source": [
    "#### sum imbalance"
   ]
  },
  {
   "cell_type": "code",
   "execution_count": 15,
   "id": "a98c5a1a",
   "metadata": {},
   "outputs": [
    {
     "data": {
      "text/plain": [
       "<AxesSubplot:xlabel='sum_imb', ylabel='s_pct_change'>"
      ]
     },
     "execution_count": 15,
     "metadata": {},
     "output_type": "execute_result"
    },
    {
     "data": {
      "image/png": "[encoded data removed]",
      "text/plain": [
       "<Figure size 720x216 with 1 Axes>"
      ]
     },
     "metadata": {},
     "output_type": "display_data"
    }
   ],
   "source": [
    "sns.regplot(df.sum_imb, y, robust = True, label = 'te')"
   ]
  },
  {
   "cell_type": "markdown",
   "id": "64f71afa",
   "metadata": {},
   "source": [
    "#### close askp - open askp"
   ]
  },
  {
   "cell_type": "code",
   "execution_count": 16,
   "id": "86585284",
   "metadata": {},
   "outputs": [
    {
     "data": {
      "text/plain": [
       "<AxesSubplot:xlabel='askp_oc_diff', ylabel='s_pct_change'>"
      ]
     },
     "execution_count": 16,
     "metadata": {},
     "output_type": "execute_result"
    },
    {
     "data": {
      "image/png": "[encoded data removed]",
      "text/plain": [
       "<Figure size 720x216 with 1 Axes>"
      ]
     },
     "metadata": {},
     "output_type": "display_data"
    }
   ],
   "source": [
    "sns.regplot(df.askp_oc_diff, y, robust = True, label = 'te')"
   ]
  },
  {
   "cell_type": "markdown",
   "id": "5a37b9a8",
   "metadata": {},
   "source": [
    "#### close bidp - open bidp"
   ]
  },
  {
   "cell_type": "code",
   "execution_count": 17,
   "id": "4dbced7a",
   "metadata": {},
   "outputs": [
    {
     "data": {
      "text/plain": [
       "<AxesSubplot:xlabel='bidp_oc_diff', ylabel='s_pct_change'>"
      ]
     },
     "execution_count": 17,
     "metadata": {},
     "output_type": "execute_result"
    },
    {
     "data": {
      "image/png": "[encoded data removed]",
      "text/plain": [
       "<Figure size 720x216 with 1 Axes>"
      ]
     },
     "metadata": {},
     "output_type": "display_data"
    }
   ],
   "source": [
    "sns.regplot(df.bidp_oc_diff, y, robust = True, label = 'te')"
   ]
  },
  {
   "cell_type": "markdown",
   "id": "eb8e3917",
   "metadata": {},
   "source": [
    "#### high askp - low askp"
   ]
  },
  {
   "cell_type": "code",
   "execution_count": 18,
   "id": "6e728a8a",
   "metadata": {},
   "outputs": [
    {
     "data": {
      "text/plain": [
       "<AxesSubplot:xlabel='askp_hl_diff', ylabel='s_pct_change'>"
      ]
     },
     "execution_count": 18,
     "metadata": {},
     "output_type": "execute_result"
    },
    {
     "data": {
      "image/png": "[encoded data removed]",
      "text/plain": [
       "<Figure size 720x216 with 1 Axes>"
      ]
     },
     "metadata": {},
     "output_type": "display_data"
    }
   ],
   "source": [
    "sns.regplot(df.askp_hl_diff, y, robust = True, label = 'te')"
   ]
  },
  {
   "cell_type": "markdown",
   "id": "441e68e6",
   "metadata": {},
   "source": [
    "#### high bidp - low bidp"
   ]
  },
  {
   "cell_type": "code",
   "execution_count": 19,
   "id": "3a37f104",
   "metadata": {},
   "outputs": [
    {
     "data": {
      "text/plain": [
       "<AxesSubplot:xlabel='bidp_hl_diff', ylabel='s_pct_change'>"
      ]
     },
     "execution_count": 19,
     "metadata": {},
     "output_type": "execute_result"
    },
    {
     "data": {
      "image/png": "[encoded data removed]",
      "text/plain": [
       "<Figure size 720x216 with 1 Axes>"
      ]
     },
     "metadata": {},
     "output_type": "display_data"
    }
   ],
   "source": [
    "sns.regplot(df.bidp_hl_diff, y, robust = True, label = 'te')"
   ]
  },
  {
   "cell_type": "markdown",
   "id": "ba4bfede",
   "metadata": {},
   "source": [
    "#### max bidp - max askp"
   ]
  },
  {
   "cell_type": "code",
   "execution_count": 20,
   "id": "59398c36",
   "metadata": {},
   "outputs": [
    {
     "data": {
      "text/plain": [
       "<AxesSubplot:xlabel='bidv_askp_max_diff', ylabel='s_pct_change'>"
      ]
     },
     "execution_count": 20,
     "metadata": {},
     "output_type": "execute_result"
    },
    {
     "data": {
      "image/png": "[encoded data removed]",
      "text/plain": [
       "<Figure size 720x216 with 1 Axes>"
      ]
     },
     "metadata": {},
     "output_type": "display_data"
    }
   ],
   "source": [
    "sns.regplot(df.bidv_askp_max_diff, y, robust = True, label = 'te')"
   ]
  },
  {
   "cell_type": "markdown",
   "id": "f63ca317",
   "metadata": {},
   "source": [
    "### Linear regression"
   ]
  },
  {
   "cell_type": "code",
   "execution_count": 40,
   "id": "4b2c1aa5",
   "metadata": {},
   "outputs": [],
   "source": [
    "from sklearn.linear_model import LinearRegression\n",
    "import matplotlib.pyplot as plt\n",
    "from statsmodels.api import OLS"
   ]
  },
  {
   "cell_type": "code",
   "execution_count": 49,
   "id": "edeaa780",
   "metadata": {},
   "outputs": [
    {
     "data": {
      "text/html": [
       "<div>\n",
       "<style scoped>\n",
       "    .dataframe tbody tr th:only-of-type {\n",
       "        vertical-align: middle;\n",
       "    }\n",
       "\n",
       "    .dataframe tbody tr th {\n",
       "        vertical-align: top;\n",
       "    }\n",
       "\n",
       "    .dataframe thead th {\n",
       "        text-align: right;\n",
       "    }\n",
       "</style>\n",
       "<table border=\"1\" class=\"dataframe\">\n",
       "  <thead>\n",
       "    <tr style=\"text-align: right;\">\n",
       "      <th></th>\n",
       "      <th>min_imb</th>\n",
       "      <th>max_imb</th>\n",
       "      <th>sum_imb</th>\n",
       "      <th>askp_oc_diff</th>\n",
       "      <th>bidp_oc_diff</th>\n",
       "      <th>askp_hl_diff</th>\n",
       "      <th>bidp_hl_diff</th>\n",
       "      <th>bidv_askp_max_diff</th>\n",
       "      <th>s_pct_change</th>\n",
       "    </tr>\n",
       "  </thead>\n",
       "  <tbody>\n",
       "    <tr>\n",
       "      <th>0</th>\n",
       "      <td>-78.035</td>\n",
       "      <td>85.921</td>\n",
       "      <td>143.030</td>\n",
       "      <td>277.5</td>\n",
       "      <td>277.4</td>\n",
       "      <td>415.7</td>\n",
       "      <td>374.4</td>\n",
       "      <td>0.155</td>\n",
       "      <td>1.215685</td>\n",
       "    </tr>\n",
       "    <tr>\n",
       "      <th>1</th>\n",
       "      <td>-60.543</td>\n",
       "      <td>63.420</td>\n",
       "      <td>-428.747</td>\n",
       "      <td>101.5</td>\n",
       "      <td>97.2</td>\n",
       "      <td>199.4</td>\n",
       "      <td>199.3</td>\n",
       "      <td>2.467</td>\n",
       "      <td>7.318326</td>\n",
       "    </tr>\n",
       "    <tr>\n",
       "      <th>2</th>\n",
       "      <td>-101.000</td>\n",
       "      <td>94.933</td>\n",
       "      <td>123.329</td>\n",
       "      <td>604.1</td>\n",
       "      <td>606.6</td>\n",
       "      <td>716.2</td>\n",
       "      <td>708.3</td>\n",
       "      <td>40.868</td>\n",
       "      <td>0.713799</td>\n",
       "    </tr>\n",
       "  </tbody>\n",
       "</table>\n",
       "</div>"
      ],
      "text/plain": [
       "   min_imb  max_imb  sum_imb  askp_oc_diff  bidp_oc_diff  askp_hl_diff  \\\n",
       "0  -78.035   85.921  143.030         277.5         277.4         415.7   \n",
       "1  -60.543   63.420 -428.747         101.5          97.2         199.4   \n",
       "2 -101.000   94.933  123.329         604.1         606.6         716.2   \n",
       "\n",
       "   bidp_hl_diff  bidv_askp_max_diff  s_pct_change  \n",
       "0         374.4               0.155      1.215685  \n",
       "1         199.3               2.467      7.318326  \n",
       "2         708.3              40.868      0.713799  "
      ]
     },
     "execution_count": 49,
     "metadata": {},
     "output_type": "execute_result"
    }
   ],
   "source": [
    "regdf = df.iloc[:, 1:]\n",
    "regdf.head(3)"
   ]
  },
  {
   "cell_type": "code",
   "execution_count": 50,
   "id": "5feb3743",
   "metadata": {},
   "outputs": [
    {
     "data": {
      "text/plain": [
       "((58, 8), (58,), (20, 8), (20,))"
      ]
     },
     "execution_count": 50,
     "metadata": {},
     "output_type": "execute_result"
    }
   ],
   "source": [
    "split = int(regdf.shape[0] * 0.75)\n",
    "\n",
    "x = regdf.iloc[:, :-1]\n",
    "y = regdf.iloc[:, -1]\n",
    "\n",
    "trainx, trainy, testx, testy  = x.iloc[:split, :], y.iloc[:split], x.iloc[split:, :], y.iloc[split:]\n",
    "trainx.shape, trainy.shape, testx.shape, testy.shape"
   ]
  },
  {
   "cell_type": "code",
   "execution_count": 51,
   "id": "b4a92c47",
   "metadata": {},
   "outputs": [
    {
     "data": {
      "text/html": [
       "<table class=\"simpletable\">\n",
       "<caption>OLS Regression Results</caption>\n",
       "<tr>\n",
       "  <th>Dep. Variable:</th>      <td>s_pct_change</td>   <th>  R-squared (uncentered):</th>      <td>   0.170</td>\n",
       "</tr>\n",
       "<tr>\n",
       "  <th>Model:</th>                   <td>OLS</td>       <th>  Adj. R-squared (uncentered):</th> <td>   0.037</td>\n",
       "</tr>\n",
       "<tr>\n",
       "  <th>Method:</th>             <td>Least Squares</td>  <th>  F-statistic:       </th>          <td>   1.281</td>\n",
       "</tr>\n",
       "<tr>\n",
       "  <th>Date:</th>             <td>Sat, 12 Mar 2022</td> <th>  Prob (F-statistic):</th>           <td> 0.275</td> \n",
       "</tr>\n",
       "<tr>\n",
       "  <th>Time:</th>                 <td>01:05:43</td>     <th>  Log-Likelihood:    </th>          <td> -149.30</td>\n",
       "</tr>\n",
       "<tr>\n",
       "  <th>No. Observations:</th>      <td>    58</td>      <th>  AIC:               </th>          <td>   314.6</td>\n",
       "</tr>\n",
       "<tr>\n",
       "  <th>Df Residuals:</th>          <td>    50</td>      <th>  BIC:               </th>          <td>   331.1</td>\n",
       "</tr>\n",
       "<tr>\n",
       "  <th>Df Model:</th>              <td>     8</td>      <th>                     </th>              <td> </td>   \n",
       "</tr>\n",
       "<tr>\n",
       "  <th>Covariance Type:</th>      <td>nonrobust</td>    <th>                     </th>              <td> </td>   \n",
       "</tr>\n",
       "</table>\n",
       "<table class=\"simpletable\">\n",
       "<tr>\n",
       "           <td></td>             <th>coef</th>     <th>std err</th>      <th>t</th>      <th>P>|t|</th>  <th>[0.025</th>    <th>0.975]</th>  \n",
       "</tr>\n",
       "<tr>\n",
       "  <th>min_imb</th>            <td>    0.0235</td> <td>    0.020</td> <td>    1.149</td> <td> 0.256</td> <td>   -0.018</td> <td>    0.065</td>\n",
       "</tr>\n",
       "<tr>\n",
       "  <th>max_imb</th>            <td>    0.0302</td> <td>    0.023</td> <td>    1.328</td> <td> 0.190</td> <td>   -0.015</td> <td>    0.076</td>\n",
       "</tr>\n",
       "<tr>\n",
       "  <th>sum_imb</th>            <td>   -0.0021</td> <td>    0.001</td> <td>   -1.698</td> <td> 0.096</td> <td>   -0.005</td> <td>    0.000</td>\n",
       "</tr>\n",
       "<tr>\n",
       "  <th>askp_oc_diff</th>       <td>    0.0310</td> <td>    0.098</td> <td>    0.315</td> <td> 0.754</td> <td>   -0.167</td> <td>    0.228</td>\n",
       "</tr>\n",
       "<tr>\n",
       "  <th>bidp_oc_diff</th>       <td>   -0.0338</td> <td>    0.099</td> <td>   -0.343</td> <td> 0.733</td> <td>   -0.232</td> <td>    0.164</td>\n",
       "</tr>\n",
       "<tr>\n",
       "  <th>askp_hl_diff</th>       <td>    0.0286</td> <td>    0.025</td> <td>    1.153</td> <td> 0.254</td> <td>   -0.021</td> <td>    0.078</td>\n",
       "</tr>\n",
       "<tr>\n",
       "  <th>bidp_hl_diff</th>       <td>   -0.0309</td> <td>    0.025</td> <td>   -1.247</td> <td> 0.218</td> <td>   -0.081</td> <td>    0.019</td>\n",
       "</tr>\n",
       "<tr>\n",
       "  <th>bidv_askp_max_diff</th> <td>    0.0112</td> <td>    0.015</td> <td>    0.725</td> <td> 0.472</td> <td>   -0.020</td> <td>    0.042</td>\n",
       "</tr>\n",
       "</table>\n",
       "<table class=\"simpletable\">\n",
       "<tr>\n",
       "  <th>Omnibus:</th>       <td> 0.678</td> <th>  Durbin-Watson:     </th> <td>   2.026</td>\n",
       "</tr>\n",
       "<tr>\n",
       "  <th>Prob(Omnibus):</th> <td> 0.713</td> <th>  Jarque-Bera (JB):  </th> <td>   0.212</td>\n",
       "</tr>\n",
       "<tr>\n",
       "  <th>Skew:</th>          <td> 0.103</td> <th>  Prob(JB):          </th> <td>   0.899</td>\n",
       "</tr>\n",
       "<tr>\n",
       "  <th>Kurtosis:</th>      <td> 3.213</td> <th>  Cond. No.          </th> <td>    196.</td>\n",
       "</tr>\n",
       "</table><br/><br/>Notes:<br/>[1] R² is computed without centering (uncentered) since the model does not contain a constant.<br/>[2] Standard Errors assume that the covariance matrix of the errors is correctly specified."
      ],
      "text/plain": [
       "<class 'statsmodels.iolib.summary.Summary'>\n",
       "\"\"\"\n",
       "                                 OLS Regression Results                                \n",
       "=======================================================================================\n",
       "Dep. Variable:           s_pct_change   R-squared (uncentered):                   0.170\n",
       "Model:                            OLS   Adj. R-squared (uncentered):              0.037\n",
       "Method:                 Least Squares   F-statistic:                              1.281\n",
       "Date:                Sat, 12 Mar 2022   Prob (F-statistic):                       0.275\n",
       "Time:                        01:05:43   Log-Likelihood:                         -149.30\n",
       "No. Observations:                  58   AIC:                                      314.6\n",
       "Df Residuals:                      50   BIC:                                      331.1\n",
       "Df Model:                           8                                                  \n",
       "Covariance Type:            nonrobust                                                  \n",
       "======================================================================================\n",
       "                         coef    std err          t      P>|t|      [0.025      0.975]\n",
       "--------------------------------------------------------------------------------------\n",
       "min_imb                0.0235      0.020      1.149      0.256      -0.018       0.065\n",
       "max_imb                0.0302      0.023      1.328      0.190      -0.015       0.076\n",
       "sum_imb               -0.0021      0.001     -1.698      0.096      -0.005       0.000\n",
       "askp_oc_diff           0.0310      0.098      0.315      0.754      -0.167       0.228\n",
       "bidp_oc_diff          -0.0338      0.099     -0.343      0.733      -0.232       0.164\n",
       "askp_hl_diff           0.0286      0.025      1.153      0.254      -0.021       0.078\n",
       "bidp_hl_diff          -0.0309      0.025     -1.247      0.218      -0.081       0.019\n",
       "bidv_askp_max_diff     0.0112      0.015      0.725      0.472      -0.020       0.042\n",
       "==============================================================================\n",
       "Omnibus:                        0.678   Durbin-Watson:                   2.026\n",
       "Prob(Omnibus):                  0.713   Jarque-Bera (JB):                0.212\n",
       "Skew:                           0.103   Prob(JB):                        0.899\n",
       "Kurtosis:                       3.213   Cond. No.                         196.\n",
       "==============================================================================\n",
       "\n",
       "Notes:\n",
       "[1] R² is computed without centering (uncentered) since the model does not contain a constant.\n",
       "[2] Standard Errors assume that the covariance matrix of the errors is correctly specified.\n",
       "\"\"\""
      ]
     },
     "execution_count": 51,
     "metadata": {},
     "output_type": "execute_result"
    }
   ],
   "source": [
    "model = OLS(trainy,trainx).fit()\n",
    "model.summary()"
   ]
  },
  {
   "cell_type": "code",
   "execution_count": 52,
   "id": "7120e8a5",
   "metadata": {},
   "outputs": [
    {
     "data": {
      "text/plain": [
       "<matplotlib.legend.Legend at 0x297547730>"
      ]
     },
     "execution_count": 52,
     "metadata": {},
     "output_type": "execute_result"
    },
    {
     "data": {
      "image/png": "[encoded data removed]",
      "text/plain": [
       "<Figure size 720x216 with 1 Axes>"
      ]
     },
     "metadata": {},
     "output_type": "display_data"
    }
   ],
   "source": [
    "plt.plot(model.predict(testx).values, label = \"pred\")\n",
    "plt.plot(testy.values, label = \"true\")\n",
    "plt.legend()"
   ]
  },
  {
   "cell_type": "markdown",
   "id": "19e1f782",
   "metadata": {},
   "source": [
    "### Standartized"
   ]
  },
  {
   "cell_type": "code",
   "execution_count": 53,
   "id": "1a016355",
   "metadata": {},
   "outputs": [],
   "source": [
    "regdf = ( regdf - regdf.mean() ) / regdf.std(ddof=1)"
   ]
  },
  {
   "cell_type": "code",
   "execution_count": 54,
   "id": "777c82e1",
   "metadata": {},
   "outputs": [
    {
     "data": {
      "text/plain": [
       "((58, 8), (58,), (20, 8), (20,))"
      ]
     },
     "execution_count": 54,
     "metadata": {},
     "output_type": "execute_result"
    }
   ],
   "source": [
    "split = int(regdf.shape[0] * 0.75)\n",
    "\n",
    "x = regdf.iloc[:, :-1]\n",
    "y = regdf.iloc[:, -1]\n",
    "\n",
    "trainx, trainy, testx, testy  = x.iloc[:split, :], y.iloc[:split], x.iloc[split:, :], y.iloc[split:]\n",
    "trainx.shape, trainy.shape, testx.shape, testy.shape"
   ]
  },
  {
   "cell_type": "code",
   "execution_count": 55,
   "id": "2a115d37",
   "metadata": {},
   "outputs": [
    {
     "data": {
      "text/html": [
       "<table class=\"simpletable\">\n",
       "<caption>OLS Regression Results</caption>\n",
       "<tr>\n",
       "  <th>Dep. Variable:</th>      <td>s_pct_change</td>   <th>  R-squared (uncentered):</th>      <td>   0.169</td>\n",
       "</tr>\n",
       "<tr>\n",
       "  <th>Model:</th>                   <td>OLS</td>       <th>  Adj. R-squared (uncentered):</th> <td>   0.036</td>\n",
       "</tr>\n",
       "<tr>\n",
       "  <th>Method:</th>             <td>Least Squares</td>  <th>  F-statistic:       </th>          <td>   1.267</td>\n",
       "</tr>\n",
       "<tr>\n",
       "  <th>Date:</th>             <td>Sat, 12 Mar 2022</td> <th>  Prob (F-statistic):</th>           <td> 0.282</td> \n",
       "</tr>\n",
       "<tr>\n",
       "  <th>Time:</th>                 <td>01:05:45</td>     <th>  Log-Likelihood:    </th>          <td> -77.097</td>\n",
       "</tr>\n",
       "<tr>\n",
       "  <th>No. Observations:</th>      <td>    58</td>      <th>  AIC:               </th>          <td>   170.2</td>\n",
       "</tr>\n",
       "<tr>\n",
       "  <th>Df Residuals:</th>          <td>    50</td>      <th>  BIC:               </th>          <td>   186.7</td>\n",
       "</tr>\n",
       "<tr>\n",
       "  <th>Df Model:</th>              <td>     8</td>      <th>                     </th>              <td> </td>   \n",
       "</tr>\n",
       "<tr>\n",
       "  <th>Covariance Type:</th>      <td>nonrobust</td>    <th>                     </th>              <td> </td>   \n",
       "</tr>\n",
       "</table>\n",
       "<table class=\"simpletable\">\n",
       "<tr>\n",
       "           <td></td>             <th>coef</th>     <th>std err</th>      <th>t</th>      <th>P>|t|</th>  <th>[0.025</th>    <th>0.975]</th>  \n",
       "</tr>\n",
       "<tr>\n",
       "  <th>min_imb</th>            <td>    0.1196</td> <td>    0.184</td> <td>    0.649</td> <td> 0.519</td> <td>   -0.251</td> <td>    0.490</td>\n",
       "</tr>\n",
       "<tr>\n",
       "  <th>max_imb</th>            <td>    0.2686</td> <td>    0.184</td> <td>    1.456</td> <td> 0.152</td> <td>   -0.102</td> <td>    0.639</td>\n",
       "</tr>\n",
       "<tr>\n",
       "  <th>sum_imb</th>            <td>   -0.2781</td> <td>    0.155</td> <td>   -1.790</td> <td> 0.079</td> <td>   -0.590</td> <td>    0.034</td>\n",
       "</tr>\n",
       "<tr>\n",
       "  <th>askp_oc_diff</th>       <td>    3.6119</td> <td>    7.976</td> <td>    0.453</td> <td> 0.653</td> <td>  -12.408</td> <td>   19.632</td>\n",
       "</tr>\n",
       "<tr>\n",
       "  <th>bidp_oc_diff</th>       <td>   -3.8407</td> <td>    7.993</td> <td>   -0.481</td> <td> 0.633</td> <td>  -19.895</td> <td>   12.213</td>\n",
       "</tr>\n",
       "<tr>\n",
       "  <th>askp_hl_diff</th>       <td>    1.4656</td> <td>    1.249</td> <td>    1.173</td> <td> 0.246</td> <td>   -1.043</td> <td>    3.975</td>\n",
       "</tr>\n",
       "<tr>\n",
       "  <th>bidp_hl_diff</th>       <td>   -1.5360</td> <td>    1.252</td> <td>   -1.226</td> <td> 0.226</td> <td>   -4.052</td> <td>    0.980</td>\n",
       "</tr>\n",
       "<tr>\n",
       "  <th>bidv_askp_max_diff</th> <td>    0.1115</td> <td>    0.159</td> <td>    0.702</td> <td> 0.486</td> <td>   -0.208</td> <td>    0.431</td>\n",
       "</tr>\n",
       "</table>\n",
       "<table class=\"simpletable\">\n",
       "<tr>\n",
       "  <th>Omnibus:</th>       <td> 1.642</td> <th>  Durbin-Watson:     </th> <td>   2.041</td>\n",
       "</tr>\n",
       "<tr>\n",
       "  <th>Prob(Omnibus):</th> <td> 0.440</td> <th>  Jarque-Bera (JB):  </th> <td>   0.927</td>\n",
       "</tr>\n",
       "<tr>\n",
       "  <th>Skew:</th>          <td> 0.251</td> <th>  Prob(JB):          </th> <td>   0.629</td>\n",
       "</tr>\n",
       "<tr>\n",
       "  <th>Kurtosis:</th>      <td> 3.361</td> <th>  Cond. No.          </th> <td>    145.</td>\n",
       "</tr>\n",
       "</table><br/><br/>Notes:<br/>[1] R² is computed without centering (uncentered) since the model does not contain a constant.<br/>[2] Standard Errors assume that the covariance matrix of the errors is correctly specified."
      ],
      "text/plain": [
       "<class 'statsmodels.iolib.summary.Summary'>\n",
       "\"\"\"\n",
       "                                 OLS Regression Results                                \n",
       "=======================================================================================\n",
       "Dep. Variable:           s_pct_change   R-squared (uncentered):                   0.169\n",
       "Model:                            OLS   Adj. R-squared (uncentered):              0.036\n",
       "Method:                 Least Squares   F-statistic:                              1.267\n",
       "Date:                Sat, 12 Mar 2022   Prob (F-statistic):                       0.282\n",
       "Time:                        01:05:45   Log-Likelihood:                         -77.097\n",
       "No. Observations:                  58   AIC:                                      170.2\n",
       "Df Residuals:                      50   BIC:                                      186.7\n",
       "Df Model:                           8                                                  \n",
       "Covariance Type:            nonrobust                                                  \n",
       "======================================================================================\n",
       "                         coef    std err          t      P>|t|      [0.025      0.975]\n",
       "--------------------------------------------------------------------------------------\n",
       "min_imb                0.1196      0.184      0.649      0.519      -0.251       0.490\n",
       "max_imb                0.2686      0.184      1.456      0.152      -0.102       0.639\n",
       "sum_imb               -0.2781      0.155     -1.790      0.079      -0.590       0.034\n",
       "askp_oc_diff           3.6119      7.976      0.453      0.653     -12.408      19.632\n",
       "bidp_oc_diff          -3.8407      7.993     -0.481      0.633     -19.895      12.213\n",
       "askp_hl_diff           1.4656      1.249      1.173      0.246      -1.043       3.975\n",
       "bidp_hl_diff          -1.5360      1.252     -1.226      0.226      -4.052       0.980\n",
       "bidv_askp_max_diff     0.1115      0.159      0.702      0.486      -0.208       0.431\n",
       "==============================================================================\n",
       "Omnibus:                        1.642   Durbin-Watson:                   2.041\n",
       "Prob(Omnibus):                  0.440   Jarque-Bera (JB):                0.927\n",
       "Skew:                           0.251   Prob(JB):                        0.629\n",
       "Kurtosis:                       3.361   Cond. No.                         145.\n",
       "==============================================================================\n",
       "\n",
       "Notes:\n",
       "[1] R² is computed without centering (uncentered) since the model does not contain a constant.\n",
       "[2] Standard Errors assume that the covariance matrix of the errors is correctly specified.\n",
       "\"\"\""
      ]
     },
     "execution_count": 55,
     "metadata": {},
     "output_type": "execute_result"
    }
   ],
   "source": [
    "model = OLS(trainy,trainx).fit()\n",
    "model.summary()"
   ]
  },
  {
   "cell_type": "code",
   "execution_count": 56,
   "id": "48a7e5a3",
   "metadata": {},
   "outputs": [
    {
     "data": {
      "text/plain": [
       "<matplotlib.legend.Legend at 0x2975d1e20>"
      ]
     },
     "execution_count": 56,
     "metadata": {},
     "output_type": "execute_result"
    },
    {
     "data": {
      "image/png": "[encoded data removed]",
      "text/plain": [
       "<Figure size 720x216 with 1 Axes>"
      ]
     },
     "metadata": {},
     "output_type": "display_data"
    }
   ],
   "source": [
    "plt.plot(model.predict(testx).values, label = \"pred\")\n",
    "plt.plot(testy.values, label = \"true\")\n",
    "plt.legend()"
   ]
  }
 ],
 "metadata": {
  "kernelspec": {
   "display_name": "Python 3 (ipykernel)",
   "language": "python",
   "name": "python3"
  },
  "language_info": {
   "codemirror_mode": {
    "name": "ipython",
    "version": 3
   },
   "file_extension": ".py",
   "mimetype": "text/x-python",
   "name": "python",
   "nbconvert_exporter": "python",
   "pygments_lexer": "ipython3",
   "version": "3.8.13"
  }
 },
 "nbformat": 4,
 "nbformat_minor": 5
}
